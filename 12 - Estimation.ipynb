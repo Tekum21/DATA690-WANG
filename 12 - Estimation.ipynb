{
 "cells": [
  {
   "cell_type": "markdown",
   "metadata": {},
   "source": [
    "### 12 - Estimation and Confidence Interval\n",
    "\n",
    "Source: https://www.britannica.com/science/statistics/Estimation-of-a-population-mean\n",
    "\n",
    "The most fundamental point and interval estimation process involves the estimation of a population mean. Suppose it is of interest to estimate the population mean, μ, for a quantitative variable. Data collected from a simple random sample can be used to compute the sample mean, x̄, where the value of x̄ provides a point estimate of μ.\n",
    "\n",
    "When the sample mean is used as a point estimate of the population mean, some error can be expected owing to the fact that a sample, or subset of the population, is used to compute the point estimate. The absolute value of the difference between the sample mean, x̄, and the population mean, μ, written |x̄ − μ|, is called the sampling error. Interval estimation incorporates a probability statement about the magnitude of the sampling error. The sampling distribution of x̄ provides the basis for such a statement.\n",
    "\n",
    "Statisticians have shown that the mean of the sampling distribution of x̄ is equal to the population mean, μ, and that the standard deviation is given by σ/Square root of√n, where σ is the population standard deviation. The standard deviation of a sampling distribution is called the standard error. For large sample sizes, the central limit theorem indicates that the sampling distribution of x̄ can be approximated by a normal probability distribution. As a matter of practice, statisticians usually consider samples of size 30 or more to be large.\n",
    "\n"
   ]
  },
  {
   "cell_type": "code",
   "execution_count": 40,
   "metadata": {},
   "outputs": [],
   "source": [
    "# Import useful libraries\n",
    "\n",
    "import math\n",
    "import pandas as pd\n",
    "import numpy as np\n",
    "import matplotlib.pyplot as plt\n",
    "\n",
    "plt.rcParams[\"figure.figsize\"] = (12,12)     # set global parameter to increase the plot size. Default size is too small"
   ]
  },
  {
   "cell_type": "code",
   "execution_count": 41,
   "metadata": {},
   "outputs": [
    {
     "name": "stdout",
     "output_type": "stream",
     "text": [
      "<class 'pandas.core.frame.DataFrame'>\n",
      "RangeIndex: 7112 entries, 0 to 7111\n",
      "Data columns (total 4 columns):\n",
      "INSTNM           7112 non-null object\n",
      "CONTROL          7112 non-null int64\n",
      "ST_FIPS          7112 non-null int64\n",
      "TUITIONFEE_IN    4021 non-null float64\n",
      "dtypes: float64(1), int64(2), object(1)\n",
      "memory usage: 222.4+ KB\n"
     ]
    }
   ],
   "source": [
    "# load 2017-2018 college scorecard data\n",
    "# Again, we only load the needed columns\n",
    "\n",
    "#Data_URL=\"https://ed-public-download.app.cloud.gov/downloads/Most-Recent-Cohorts-All-Data-Elements.csv\"\n",
    "col_names = [\"ST_FIPS\", \"INSTNM\",\"CONTROL\", \"TUITIONFEE_IN\"]\n",
    "#df=pd.read_csv(Data_URL,usecols=col_names)\n",
    "df = pd.read_csv(\"MERGED2017_18_PP.csv\", usecols=col_names)\n",
    "df.info()"
   ]
  },
  {
   "cell_type": "code",
   "execution_count": 42,
   "metadata": {},
   "outputs": [],
   "source": [
    "# ST_FIPS representing states and CONTROL representing institution ownership types. \n",
    "# So they should be categorical variable even the value are numbers\n",
    "# convert them from integer type to string type\n",
    "\n",
    "df[\"ST_FIPS\"] = df[\"ST_FIPS\"].astype(str)\n",
    "df[\"CONTROL\"] = df[\"CONTROL\"].astype(str)"
   ]
  },
  {
   "cell_type": "code",
   "execution_count": 43,
   "metadata": {},
   "outputs": [
    {
     "data": {
      "text/html": [
       "<div>\n",
       "<style scoped>\n",
       "    .dataframe tbody tr th:only-of-type {\n",
       "        vertical-align: middle;\n",
       "    }\n",
       "\n",
       "    .dataframe tbody tr th {\n",
       "        vertical-align: top;\n",
       "    }\n",
       "\n",
       "    .dataframe thead th {\n",
       "        text-align: right;\n",
       "    }\n",
       "</style>\n",
       "<table border=\"1\" class=\"dataframe\">\n",
       "  <thead>\n",
       "    <tr style=\"text-align: right;\">\n",
       "      <th></th>\n",
       "      <th>INSTNM</th>\n",
       "      <th>CONTROL</th>\n",
       "      <th>ST_FIPS</th>\n",
       "      <th>TUITIONFEE_IN</th>\n",
       "    </tr>\n",
       "  </thead>\n",
       "  <tbody>\n",
       "  </tbody>\n",
       "</table>\n",
       "</div>"
      ],
      "text/plain": [
       "Empty DataFrame\n",
       "Columns: [INSTNM, CONTROL, ST_FIPS, TUITIONFEE_IN]\n",
       "Index: []"
      ]
     },
     "execution_count": 43,
     "metadata": {},
     "output_type": "execute_result"
    }
   ],
   "source": [
    "# Find out the colleges that have zero tuition\n",
    "\n",
    "df[df[\"TUITIONFEE_IN\"] == 0]"
   ]
  },
  {
   "cell_type": "code",
   "execution_count": 44,
   "metadata": {},
   "outputs": [
    {
     "name": "stdout",
     "output_type": "stream",
     "text": [
      "<class 'pandas.core.frame.DataFrame'>\n",
      "Int64Index: 7112 entries, 0 to 7111\n",
      "Data columns (total 4 columns):\n",
      "INSTNM           7112 non-null object\n",
      "CONTROL          7112 non-null object\n",
      "ST_FIPS          7112 non-null object\n",
      "TUITIONFEE_IN    4021 non-null float64\n",
      "dtypes: float64(1), object(3)\n",
      "memory usage: 277.8+ KB\n"
     ]
    }
   ],
   "source": [
    "# Drop the colleges with zero tuition\n",
    "\n",
    "df = df[df[\"TUITIONFEE_IN\"] != 0]\n",
    "df.info()"
   ]
  },
  {
   "cell_type": "code",
   "execution_count": 45,
   "metadata": {},
   "outputs": [
    {
     "data": {
      "text/plain": [
       "3091"
      ]
     },
     "execution_count": 45,
     "metadata": {},
     "output_type": "execute_result"
    }
   ],
   "source": [
    "# Find out how many colleges having missing tuition\n",
    "\n",
    "df[\"TUITIONFEE_IN\"].isna().sum()"
   ]
  },
  {
   "cell_type": "code",
   "execution_count": 29,
   "metadata": {},
   "outputs": [
    {
     "name": "stdout",
     "output_type": "stream",
     "text": [
      "<class 'pandas.core.frame.DataFrame'>\n",
      "Int64Index: 3865 entries, 0 to 6804\n",
      "Data columns (total 4 columns):\n",
      "INSTNM           3865 non-null object\n",
      "CONTROL          3865 non-null object\n",
      "ST_FIPS          3865 non-null object\n",
      "TUITIONFEE_IN    3865 non-null float64\n",
      "dtypes: float64(1), object(3)\n",
      "memory usage: 151.0+ KB\n"
     ]
    }
   ],
   "source": [
    "# Drop these colleges with missing tuition from the dataframe\n",
    "\n",
    "df.dropna(inplace=True)\n",
    "df.info()"
   ]
  },
  {
   "cell_type": "markdown",
   "metadata": {},
   "source": [
    "Finally, we have a population of 4,024 colleges. \n",
    "\n",
    "We will now proceed to take a random sample of colleges and use the sample mean as an estimator for the population mean. Since the sample mean is only the approximation of the population mean, we would like to find out our confidence level and confidence interval of our estimate and the margin of errors.\n",
    "\n",
    "The formula for calculating standard deviation of a sample is:\n",
    "\n",
    " √(∑(xi - x(bar))^2) /n-1)  \n",
    "\n",
    "The term n-1 is called the degrees of freedom, meaning \"number of independent variables - number of parameters estimated\".\n",
    "in this case the mean is being estimated.\n",
    "\n",
    "The formula for calculating standard deviation of a population is:\n",
    "\n",
    "√(∑((xi - µ )^2) /n) \n",
    "\n",
    "The Standard Error (SE) = Standard Deviation / Square Root of Sample Size\n",
    "\n",
    "SE is used to measure the sampling error."
   ]
  },
  {
   "cell_type": "code",
   "execution_count": 30,
   "metadata": {},
   "outputs": [
    {
     "data": {
      "text/plain": [
       "15829.48"
      ]
     },
     "execution_count": 30,
     "metadata": {},
     "output_type": "execute_result"
    }
   ],
   "source": [
    "# Random sample of colleges\n",
    "SAMPLE_SIZE = 50         # This variable will be used through out the rest of cells\n",
    "\n",
    "df_sample = df.sample(SAMPLE_SIZE)\n",
    "sample_mean = df_sample[\"TUITIONFEE_IN\"].mean()\n",
    "sample_mean                   "
   ]
  },
  {
   "cell_type": "code",
   "execution_count": 31,
   "metadata": {},
   "outputs": [
    {
     "data": {
      "text/plain": [
       "13394.63"
      ]
     },
     "execution_count": 31,
     "metadata": {},
     "output_type": "execute_result"
    }
   ],
   "source": [
    "#### Let's calculate the sample standard deviation the hard way\n",
    "\n",
    "tuition_list = list(df_sample[\"TUITIONFEE_IN\"])\n",
    "degree_of_freedom = SAMPLE_SIZE - 1\n",
    "variance = 0\n",
    "for tuition in tuition_list:\n",
    "    variance += (tuition - sample_mean)**2\n",
    "sample_std = math.sqrt(variance/degree_of_freedom)\n",
    "round(sample_std, 2)"
   ]
  },
  {
   "cell_type": "code",
   "execution_count": 32,
   "metadata": {},
   "outputs": [
    {
     "data": {
      "text/plain": [
       "13394.63"
      ]
     },
     "execution_count": 32,
     "metadata": {},
     "output_type": "execute_result"
    }
   ],
   "source": [
    "#### Let's calculate the sample standard deviation easy way using Pandas\n",
    "\n",
    "sample_std = df_sample[\"TUITIONFEE_IN\"].std()\n",
    "round(sample_std, 2)"
   ]
  },
  {
   "cell_type": "markdown",
   "metadata": {},
   "source": [
    "#### Let's calculate the sample standard deviation easy way using Numpy\n",
    "\n",
    "Notes:\n",
    "\n",
    "Delta Degrees of Freedom (DDOF): the divisor used in the calculation is N - ddof, where N represents the number of observations. By default, ddof is zero.\n",
    "\n",
    "In standard statistical practice, ddof=1 provides an unbiased estimator of the variance of a hypothetical infinite population. ddof=0 provides a maximum likelihood estimate of the variance for normally distributed variables.\n"
   ]
  },
  {
   "cell_type": "code",
   "execution_count": 33,
   "metadata": {},
   "outputs": [
    {
     "data": {
      "text/plain": [
       "13394.63"
      ]
     },
     "execution_count": 33,
     "metadata": {},
     "output_type": "execute_result"
    }
   ],
   "source": [
    "sample_std = np.std(df_sample[\"TUITIONFEE_IN\"], ddof=1)\n",
    "round(sample_std, 2)"
   ]
  },
  {
   "cell_type": "markdown",
   "metadata": {},
   "source": [
    "### Confidence Intervals \n",
    "\n",
    "We will use the following chracteristics of a normal distribution:\n",
    "\n",
    "- 68% of values are within 1 standard deviation of the mean, 𝜇±𝜎\n",
    "- 95% of values are within 2 standard deviations of the mean, 𝜇±2𝜎\n",
    "- 99.7% of values are within 3 standard deviations of the mean, 𝜇±3𝜎 (This is where the famous 6 sigma came from)"
   ]
  },
  {
   "cell_type": "code",
   "execution_count": 34,
   "metadata": {},
   "outputs": [
    {
     "data": {
      "text/plain": [
       "1894.286322180467"
      ]
     },
     "execution_count": 34,
     "metadata": {},
     "output_type": "execute_result"
    }
   ],
   "source": [
    "# let's calculate the standard error first \n",
    "# Since we assume we don't know the population standard deviation, we use sample standard deviation as an estimate\n",
    "\n",
    "std_err = sample_std / math.sqrt(SAMPLE_SIZE)       # standard error\n",
    "std_err"
   ]
  },
  {
   "cell_type": "code",
   "execution_count": 35,
   "metadata": {},
   "outputs": [
    {
     "name": "stdout",
     "output_type": "stream",
     "text": [
      "Lower confidence limit at 68% confidence level =  13935.19\n",
      "Upper confidence limit at 68% confidence level =  17723.77\n"
     ]
    }
   ],
   "source": [
    "# Calculate 68% Confidence Interval (CI) - one standard error from the population mean\n",
    "# 68% chances the population mean is within the sample_mean (+ or -) the standard error (SE)\n",
    "\n",
    "LCL_68 = sample_mean -  std_err\n",
    "UCL_68 = sample_mean +  std_err\n",
    "\n",
    "print(\"Lower confidence limit at 68% confidence level = \", round(LCL_68,2))\n",
    "print(\"Upper confidence limit at 68% confidence level = \", round(UCL_68,2))"
   ]
  },
  {
   "cell_type": "code",
   "execution_count": 36,
   "metadata": {},
   "outputs": [
    {
     "name": "stdout",
     "output_type": "stream",
     "text": [
      "Lower confidence limit at 95% confidence level =  12040.91\n",
      "Upper confidence limit at 95% confidence level =  19618.05\n"
     ]
    }
   ],
   "source": [
    "# Calculate 95% Confidence Interval (CI) - one standard error from the population mean\n",
    "# 90% chances the population mean is within the sample_mean + or - 2 * the standard error (SE)\n",
    "\n",
    "LCL_95 = sample_mean -  2 * std_err\n",
    "UCL_95 = sample_mean +  2 * std_err\n",
    "print(\"Lower confidence limit at 95% confidence level = \", round(LCL_95,2))\n",
    "print(\"Upper confidence limit at 95% confidence level = \", round(UCL_95,2))\n"
   ]
  },
  {
   "cell_type": "code",
   "execution_count": 37,
   "metadata": {},
   "outputs": [
    {
     "name": "stdout",
     "output_type": "stream",
     "text": [
      "Lower confidence limit at 99.7% confidence level =  10146.62\n",
      "Upper confidence limit at 99.7% confidence level =  21512.34\n"
     ]
    }
   ],
   "source": [
    "# Calculate 99.7% Confidence Interval (CI) - one standard error from the population mean\n",
    "# 99.7% chances the population mean is within the sample_mean + or - 3 * the standard error (SE)\n",
    "\n",
    "LCL_997 = sample_mean -  3 * std_err\n",
    "UCL_997 = sample_mean +  3 * std_err\n",
    "print(\"Lower confidence limit at 99.7% confidence level = \", round(LCL_997,2))\n",
    "print(\"Upper confidence limit at 99.7% confidence level = \", round(UCL_997,2))"
   ]
  },
  {
   "cell_type": "markdown",
   "metadata": {},
   "source": [
    "### The End!\n",
    "\n",
    "\n",
    "#### Now, the Bonus Follows: Let's compare the tuition of different types of institutions using Boxplot"
   ]
  },
  {
   "cell_type": "code",
   "execution_count": 38,
   "metadata": {},
   "outputs": [
    {
     "data": {
      "text/html": [
       "<div>\n",
       "<style scoped>\n",
       "    .dataframe tbody tr th:only-of-type {\n",
       "        vertical-align: middle;\n",
       "    }\n",
       "\n",
       "    .dataframe tbody tr th {\n",
       "        vertical-align: top;\n",
       "    }\n",
       "\n",
       "    .dataframe thead th {\n",
       "        text-align: right;\n",
       "    }\n",
       "</style>\n",
       "<table border=\"1\" class=\"dataframe\">\n",
       "  <thead>\n",
       "    <tr style=\"text-align: right;\">\n",
       "      <th></th>\n",
       "      <th>INSTNM</th>\n",
       "      <th>CONTROL</th>\n",
       "      <th>ST_FIPS</th>\n",
       "      <th>TUITIONFEE_IN</th>\n",
       "    </tr>\n",
       "  </thead>\n",
       "  <tbody>\n",
       "    <tr>\n",
       "      <td>162</td>\n",
       "      <td>University of Arkansas Community College Rich ...</td>\n",
       "      <td>Public</td>\n",
       "      <td>5</td>\n",
       "      <td>2880.0</td>\n",
       "    </tr>\n",
       "    <tr>\n",
       "      <td>1939</td>\n",
       "      <td>College of Saint Mary</td>\n",
       "      <td>Private nonprofit</td>\n",
       "      <td>31</td>\n",
       "      <td>20350.0</td>\n",
       "    </tr>\n",
       "    <tr>\n",
       "      <td>6755</td>\n",
       "      <td>Keweenaw Bay Ojibwa Community College - Wabanu...</td>\n",
       "      <td>Public</td>\n",
       "      <td>26</td>\n",
       "      <td>610.0</td>\n",
       "    </tr>\n",
       "    <tr>\n",
       "      <td>4010</td>\n",
       "      <td>Interactive College of Technology-Newport</td>\n",
       "      <td>Private for-profit</td>\n",
       "      <td>21</td>\n",
       "      <td>9530.0</td>\n",
       "    </tr>\n",
       "    <tr>\n",
       "      <td>2503</td>\n",
       "      <td>Wingate University</td>\n",
       "      <td>Private nonprofit</td>\n",
       "      <td>37</td>\n",
       "      <td>33166.0</td>\n",
       "    </tr>\n",
       "    <tr>\n",
       "      <td>1384</td>\n",
       "      <td>Washington County Community College</td>\n",
       "      <td>Public</td>\n",
       "      <td>23</td>\n",
       "      <td>3722.0</td>\n",
       "    </tr>\n",
       "    <tr>\n",
       "      <td>442</td>\n",
       "      <td>San Jose City College</td>\n",
       "      <td>Public</td>\n",
       "      <td>6</td>\n",
       "      <td>1358.0</td>\n",
       "    </tr>\n",
       "    <tr>\n",
       "      <td>2276</td>\n",
       "      <td>Nyack College</td>\n",
       "      <td>Private nonprofit</td>\n",
       "      <td>36</td>\n",
       "      <td>25350.0</td>\n",
       "    </tr>\n",
       "    <tr>\n",
       "      <td>408</td>\n",
       "      <td>Pitzer College</td>\n",
       "      <td>Private nonprofit</td>\n",
       "      <td>6</td>\n",
       "      <td>54056.0</td>\n",
       "    </tr>\n",
       "    <tr>\n",
       "      <td>2765</td>\n",
       "      <td>Tulsa Community College</td>\n",
       "      <td>Public</td>\n",
       "      <td>40</td>\n",
       "      <td>3349.0</td>\n",
       "    </tr>\n",
       "  </tbody>\n",
       "</table>\n",
       "</div>"
      ],
      "text/plain": [
       "                                                 INSTNM             CONTROL  \\\n",
       "162   University of Arkansas Community College Rich ...              Public   \n",
       "1939                              College of Saint Mary   Private nonprofit   \n",
       "6755  Keweenaw Bay Ojibwa Community College - Wabanu...              Public   \n",
       "4010          Interactive College of Technology-Newport  Private for-profit   \n",
       "2503                                 Wingate University   Private nonprofit   \n",
       "1384                Washington County Community College              Public   \n",
       "442                               San Jose City College              Public   \n",
       "2276                                      Nyack College   Private nonprofit   \n",
       "408                                      Pitzer College   Private nonprofit   \n",
       "2765                            Tulsa Community College              Public   \n",
       "\n",
       "     ST_FIPS  TUITIONFEE_IN  \n",
       "162        5         2880.0  \n",
       "1939      31        20350.0  \n",
       "6755      26          610.0  \n",
       "4010      21         9530.0  \n",
       "2503      37        33166.0  \n",
       "1384      23         3722.0  \n",
       "442        6         1358.0  \n",
       "2276      36        25350.0  \n",
       "408        6        54056.0  \n",
       "2765      40         3349.0  "
      ]
     },
     "execution_count": 38,
     "metadata": {},
     "output_type": "execute_result"
    }
   ],
   "source": [
    "# Transform the cryptic numbers to explicit lables. \n",
    "def get_ownership(control):\n",
    "    if control == \"1\":\n",
    "        return \"Public\"\n",
    "    elif control ==\"2\":\n",
    "        return \"Private nonprofit\"\n",
    "    elif control ==\"3\":\n",
    "        return \"Private for-profit\"\n",
    "    else: \n",
    "        return np.nan\n",
    "    \n",
    "df[\"CONTROL\"] = df[\"CONTROL\"].apply(get_ownership)\n",
    "df.sample(10)"
   ]
  },
  {
   "cell_type": "code",
   "execution_count": 39,
   "metadata": {},
   "outputs": [
    {
     "data": {
      "text/plain": [
       "<matplotlib.axes._subplots.AxesSubplot at 0x1b4f9e6ed08>"
      ]
     },
     "execution_count": 39,
     "metadata": {},
     "output_type": "execute_result"
    },
    {
     "data": {
      "image/png": "[encoded data removed]",
      "text/plain": [
       "<Figure size 864x864 with 1 Axes>"
      ]
     },
     "metadata": {
      "needs_background": "light"
     },
     "output_type": "display_data"
    }
   ],
   "source": [
    "# Display the boxplot by different ownership types\n",
    "\n",
    "df.boxplot(\"TUITIONFEE_IN\",by=\"CONTROL\")"
   ]
  },
  {
   "cell_type": "markdown",
   "metadata": {},
   "source": [
    "### The End "
   ]
  },
  {
   "cell_type": "code",
   "execution_count": null,
   "metadata": {},
   "outputs": [],
   "source": []
  }
 ],
 "metadata": {
  "kernelspec": {
   "display_name": "Python 3",
   "language": "python",
   "name": "python3"
  },
  "language_info": {
   "codemirror_mode": {
    "name": "ipython",
    "version": 3
   },
   "file_extension": ".py",
   "mimetype": "text/x-python",
   "name": "python",
   "nbconvert_exporter": "python",
   "pygments_lexer": "ipython3",
   "version": "3.7.4"
  }
 },
 "nbformat": 4,
 "nbformat_minor": 4
}
