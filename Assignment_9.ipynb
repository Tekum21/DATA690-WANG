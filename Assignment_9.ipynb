{
  "nbformat": 4,
  "nbformat_minor": 0,
  "metadata": {
    "colab": {
      "name": "Assignment 9.ipynb",
      "provenance": [],
      "authorship_tag": "ABX9TyNQuJ01ouDEt6y4Fk78nrUN",
      "include_colab_link": true
    },
    "kernelspec": {
      "name": "python3",
      "display_name": "Python 3"
    }
  },
  "cells": [
    {
      "cell_type": "markdown",
      "metadata": {
        "id": "view-in-github",
        "colab_type": "text"
      },
      "source": [
        "<a href=\"https://colab.research.google.com/github/Tekum21/DATA690-WANG/blob/Assignments/Assignment_9.ipynb\" target=\"_parent\"><img src=\"https://colab.research.google.com/assets/colab-badge.svg\" alt=\"Open In Colab\"/></a>"
      ]
    },
    {
      "cell_type": "markdown",
      "metadata": {
        "id": "vEKsuN8t4jiH",
        "colab_type": "text"
      },
      "source": [
        "## Point Estimate and Interval Estimate (Confidence Interval) Using t-distribution\n"
      ]
    },
    {
      "cell_type": "markdown",
      "metadata": {
        "id": "t3qvSWGU5agF",
        "colab_type": "text"
      },
      "source": [
        "> A random survey of enrollment at 35 community colleges across the United States yielded the following figures: 6,414; 1,550; 2,109; 9,350; 21,828; 4,300; 5,944; 5,722; 2,825; 2,044; 5,481; 5,200; 5,853; 2,750; 10,012; 6,357; 27,000; 9,414; 7,681; 3,200; 17,500; 9,200; 7,380; 18,314; 6,557; 13,713; 17,768; 7,493; 2,771; 2,861; 1,263; 7,285; 28,165; 5,080; 11,622\n",
        "\n",
        "Perform point estimate and interval estimate of average enrollment of US community colleges with 95% confidence level."
      ]
    },
    {
      "cell_type": "code",
      "metadata": {
        "id": "a8I4-sw86O7E",
        "colab_type": "code",
        "colab": {}
      },
      "source": [
        "import scipy.stats as stats\n",
        "import numpy as np\n",
        "import math"
      ],
      "execution_count": 0,
      "outputs": []
    },
    {
      "cell_type": "markdown",
      "metadata": {
        "id": "JeJeqv9b6nb-",
        "colab_type": "text"
      },
      "source": [
        "Step 1. Calculate Sample Size and Sample Mean"
      ]
    },
    {
      "cell_type": "code",
      "metadata": {
        "id": "r6NYxYCP6bnQ",
        "colab_type": "code",
        "colab": {
          "base_uri": "https://localhost:8080/",
          "height": 35
        },
        "outputId": "7f0bdc82-5813-41e2-8861-41e31ca69a10"
      },
      "source": [
        "# We first generate a list containing the above data.\n",
        "sample_data=[6414, 1550, 2109, 9350, 21828, 4300, 5944, 5722, 2825, 2044, 5481, 5200, 5853, 2750, 10012, 6357, 27000, 9414, 7681, 3200, 17500, 9200, 7380, 18314, 6557, 13713, 17768, 7493, 2771, 2861, 1263, 7285, 28165, 5080 ,11622] \n",
        "sample_size=len(sample_data)\n",
        "print(\"Sample size=\", sample_size)"
      ],
      "execution_count": 26,
      "outputs": [
        {
          "output_type": "stream",
          "text": [
            "Sample size= 35\n"
          ],
          "name": "stdout"
        }
      ]
    },
    {
      "cell_type": "code",
      "metadata": {
        "id": "QvKy16EO8n8V",
        "colab_type": "code",
        "colab": {
          "base_uri": "https://localhost:8080/",
          "height": 35
        },
        "outputId": "c61d06dc-561f-464b-ccb2-72b564fa3192"
      },
      "source": [
        "sample_mean= round(np.mean(sample_data),2)\n",
        "print(\"sample mean =\",sample_mean)"
      ],
      "execution_count": 27,
      "outputs": [
        {
          "output_type": "stream",
          "text": [
            "sample mean = 8628.74\n"
          ],
          "name": "stdout"
        }
      ]
    },
    {
      "cell_type": "markdown",
      "metadata": {
        "id": "JVh9WcRF9_k9",
        "colab_type": "text"
      },
      "source": [
        "Step 2 - Calculate the Sample Standard Deviation & Sample Error"
      ]
    },
    {
      "cell_type": "code",
      "metadata": {
        "id": "SiUKxhHM_A2g",
        "colab_type": "code",
        "colab": {
          "base_uri": "https://localhost:8080/",
          "height": 35
        },
        "outputId": "0e88f431-78cc-4f1f-deab-ed60be9d3413"
      },
      "source": [
        "# ddof=1 since we are using a but a sample data\n",
        "sample_std= np.std(sample_data,ddof=1)\n",
        "sample_std= round(sample_std,2)\n",
        "print(\"sample std =\", sample_std)"
      ],
      "execution_count": 30,
      "outputs": [
        {
          "output_type": "stream",
          "text": [
            "sample std = 6943.88\n"
          ],
          "name": "stdout"
        }
      ]
    },
    {
      "cell_type": "code",
      "metadata": {
        "id": "jdJKYMqDAN9X",
        "colab_type": "code",
        "colab": {
          "base_uri": "https://localhost:8080/",
          "height": 35
        },
        "outputId": "c406e802-b423-4656-f4aa-0672ac7eed24"
      },
      "source": [
        "# calculating sample standard deviarion error\n",
        "std_err= sample_std/math.sqrt(sample_size)\n",
        "std_err=round(std_err,2)\n",
        "print(\"sample standard deviation error =\", std_err)"
      ],
      "execution_count": 31,
      "outputs": [
        {
          "output_type": "stream",
          "text": [
            "sample standard deviation error = 1173.73\n"
          ],
          "name": "stdout"
        }
      ]
    },
    {
      "cell_type": "markdown",
      "metadata": {
        "id": "8WTTMX5PBc0L",
        "colab_type": "text"
      },
      "source": [
        "Step 3 - Calculate t Critical Value using t-Distribution"
      ]
    },
    {
      "cell_type": "code",
      "metadata": {
        "id": "9HlTFI2GBcWZ",
        "colab_type": "code",
        "colab": {
          "base_uri": "https://localhost:8080/",
          "height": 35
        },
        "outputId": "2d76f4d6-861b-4a3a-e1d6-2d549d29972a"
      },
      "source": [
        "# At 95% CI\n",
        "# α = 1 - Confidence Level = 1 - 95% = 0.05\n",
        "\n",
        "# α/2 = 0.025 , since  2Tail = 0.05\n",
        "\n",
        "# We use Python scipy.stats t-distribution.\n",
        "# df = n-1, (35-1=34)\n",
        "\n",
        "t_value = stats.t.ppf(0.975, 34)\n",
        "t_value=round(t_value,2)\n",
        "print(\"t critical value or t statistics = \", t_value)"
      ],
      "execution_count": 32,
      "outputs": [
        {
          "output_type": "stream",
          "text": [
            "t critical value or t statistics =  2.03\n"
          ],
          "name": "stdout"
        }
      ]
    },
    {
      "cell_type": "markdown",
      "metadata": {
        "id": "NRzKmV3XEWAE",
        "colab_type": "text"
      },
      "source": [
        "Step 4 - Calculate Margin of Error"
      ]
    },
    {
      "cell_type": "code",
      "metadata": {
        "id": "Mi9vfkY6EZoq",
        "colab_type": "code",
        "colab": {
          "base_uri": "https://localhost:8080/",
          "height": 35
        },
        "outputId": "15d287ea-9512-41a8-d6d5-7d1572b9142e"
      },
      "source": [
        "margin_of_err = t_value * std_err\n",
        "margin_of_err=round(margin_of_err,2)\n",
        "print('margin_of_err =',margin_of_err)"
      ],
      "execution_count": 34,
      "outputs": [
        {
          "output_type": "stream",
          "text": [
            "margin_of_err = 2382.67\n"
          ],
          "name": "stdout"
        }
      ]
    },
    {
      "cell_type": "markdown",
      "metadata": {
        "id": "6baqjFTFFV9-",
        "colab_type": "text"
      },
      "source": [
        "#### Step 5 - Calculate Lower and Upper Limit of the Confidence Interval\n",
        "* Lower Limit = Sample Mean - Margin of Error\n",
        "* Upper Limit = Sample Mean + Margin of Error\n"
      ]
    },
    {
      "cell_type": "code",
      "metadata": {
        "id": "rb6sV2I_Fgko",
        "colab_type": "code",
        "colab": {
          "base_uri": "https://localhost:8080/",
          "height": 35
        },
        "outputId": "0a019f5a-7b45-44f6-80c2-24c0725ebc73"
      },
      "source": [
        "lower_limit = sample_mean - margin_of_err\n",
        "print (\"Lower Limit = \", lower_limit)"
      ],
      "execution_count": 35,
      "outputs": [
        {
          "output_type": "stream",
          "text": [
            "Lower Limit =  6246.07\n"
          ],
          "name": "stdout"
        }
      ]
    },
    {
      "cell_type": "code",
      "metadata": {
        "id": "oIkYPRcJFvfi",
        "colab_type": "code",
        "colab": {
          "base_uri": "https://localhost:8080/",
          "height": 35
        },
        "outputId": "d730fdc4-b393-48ca-e8b7-9765123c6235"
      },
      "source": [
        "upper_limit = sample_mean + margin_of_err\n",
        "print (\"Upper Limit = \", upper_limit)"
      ],
      "execution_count": 36,
      "outputs": [
        {
          "output_type": "stream",
          "text": [
            "Upper Limit =  11011.41\n"
          ],
          "name": "stdout"
        }
      ]
    },
    {
      "cell_type": "code",
      "metadata": {
        "id": "ha2d9h9rGlcS",
        "colab_type": "code",
        "colab": {
          "base_uri": "https://localhost:8080/",
          "height": 35
        },
        "outputId": "2ae7ba94-ce09-4c78-9216-1641fd8994ff"
      },
      "source": [
        "print(\"The 95% Confidence Interval Estimate of Enrollment of US Community College has  = (\", lower_limit, \",\", upper_limit, \")\")"
      ],
      "execution_count": 37,
      "outputs": [
        {
          "output_type": "stream",
          "text": [
            "The 95% Confidence Interval Estimate of Enrollment of US Community College has  = ( 6246.07 , 11011.41 )\n"
          ],
          "name": "stdout"
        }
      ]
    }
  ]
}