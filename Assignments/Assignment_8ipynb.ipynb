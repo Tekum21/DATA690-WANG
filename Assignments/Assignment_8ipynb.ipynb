{
  "nbformat": 4,
  "nbformat_minor": 0,
  "metadata": {
    "colab": {
      "name": "Assignment # 8ipynb",
      "provenance": []
    },
    "kernelspec": {
      "name": "python3",
      "display_name": "Python 3"
    }
  },
  "cells": [
    {
      "cell_type": "markdown",
      "metadata": {
        "id": "NZNDIrLZwmUa",
        "colab_type": "text"
      },
      "source": [
        "## Importing Libraries\n"
      ]
    },
    {
      "cell_type": "code",
      "metadata": {
        "id": "elfVFYLJwMJ7",
        "colab_type": "code",
        "colab": {}
      },
      "source": [
        "import math\n",
        "import pandas as pd\n",
        "import numpy as np\n",
        "import matplotlib.pyplot as plt\n",
        "\n"
      ],
      "execution_count": 0,
      "outputs": []
    },
    {
      "cell_type": "markdown",
      "metadata": {
        "id": "V0wPooRpw5TB",
        "colab_type": "text"
      },
      "source": [
        "### Data Source: https://collegescorecard.ed.gov"
      ]
    },
    {
      "cell_type": "code",
      "metadata": {
        "id": "Qhog6kxxxuxS",
        "colab_type": "code",
        "colab": {}
      },
      "source": [
        "# Loading dataset and selecting only required columns.\n",
        "Data_URL=\"https://ed-public-download.app.cloud.gov/downloads/Most-Recent-Cohorts-All-Data-Elements.csv\"\n",
        "\n",
        "cols=[\"CONTROL\",\"MD_EARN_WNE_P10\"]\n",
        "Df= pd.read_csv(Data_URL,usecols=cols)"
      ],
      "execution_count": 0,
      "outputs": []
    },
    {
      "cell_type": "code",
      "metadata": {
        "id": "V_QP6IPrxrlG",
        "colab_type": "code",
        "outputId": "8ab94224-b1b0-41cc-b0dd-954eaae4549e",
        "colab": {
          "base_uri": "https://localhost:8080/",
          "height": 386
        }
      },
      "source": [
        "Df.describe(include= \"all\")"
      ],
      "execution_count": 484,
      "outputs": [
        {
          "output_type": "execute_result",
          "data": {
            "text/html": [
              "<div>\n",
              "<style scoped>\n",
              "    .dataframe tbody tr th:only-of-type {\n",
              "        vertical-align: middle;\n",
              "    }\n",
              "\n",
              "    .dataframe tbody tr th {\n",
              "        vertical-align: top;\n",
              "    }\n",
              "\n",
              "    .dataframe thead th {\n",
              "        text-align: right;\n",
              "    }\n",
              "</style>\n",
              "<table border=\"1\" class=\"dataframe\">\n",
              "  <thead>\n",
              "    <tr style=\"text-align: right;\">\n",
              "      <th></th>\n",
              "      <th>CONTROL</th>\n",
              "      <th>MD_EARN_WNE_P10</th>\n",
              "    </tr>\n",
              "  </thead>\n",
              "  <tbody>\n",
              "    <tr>\n",
              "      <th>count</th>\n",
              "      <td>6806.000000</td>\n",
              "      <td>5503</td>\n",
              "    </tr>\n",
              "    <tr>\n",
              "      <th>unique</th>\n",
              "      <td>NaN</td>\n",
              "      <td>634</td>\n",
              "    </tr>\n",
              "    <tr>\n",
              "      <th>top</th>\n",
              "      <td>NaN</td>\n",
              "      <td>PrivacySuppressed</td>\n",
              "    </tr>\n",
              "    <tr>\n",
              "      <th>freq</th>\n",
              "      <td>NaN</td>\n",
              "      <td>686</td>\n",
              "    </tr>\n",
              "    <tr>\n",
              "      <th>mean</th>\n",
              "      <td>2.087570</td>\n",
              "      <td>NaN</td>\n",
              "    </tr>\n",
              "    <tr>\n",
              "      <th>std</th>\n",
              "      <td>0.835281</td>\n",
              "      <td>NaN</td>\n",
              "    </tr>\n",
              "    <tr>\n",
              "      <th>min</th>\n",
              "      <td>1.000000</td>\n",
              "      <td>NaN</td>\n",
              "    </tr>\n",
              "    <tr>\n",
              "      <th>25%</th>\n",
              "      <td>1.000000</td>\n",
              "      <td>NaN</td>\n",
              "    </tr>\n",
              "    <tr>\n",
              "      <th>50%</th>\n",
              "      <td>2.000000</td>\n",
              "      <td>NaN</td>\n",
              "    </tr>\n",
              "    <tr>\n",
              "      <th>75%</th>\n",
              "      <td>3.000000</td>\n",
              "      <td>NaN</td>\n",
              "    </tr>\n",
              "    <tr>\n",
              "      <th>max</th>\n",
              "      <td>3.000000</td>\n",
              "      <td>NaN</td>\n",
              "    </tr>\n",
              "  </tbody>\n",
              "</table>\n",
              "</div>"
            ],
            "text/plain": [
              "            CONTROL    MD_EARN_WNE_P10\n",
              "count   6806.000000               5503\n",
              "unique          NaN                634\n",
              "top             NaN  PrivacySuppressed\n",
              "freq            NaN                686\n",
              "mean       2.087570                NaN\n",
              "std        0.835281                NaN\n",
              "min        1.000000                NaN\n",
              "25%        1.000000                NaN\n",
              "50%        2.000000                NaN\n",
              "75%        3.000000                NaN\n",
              "max        3.000000                NaN"
            ]
          },
          "metadata": {
            "tags": []
          },
          "execution_count": 484
        }
      ]
    },
    {
      "cell_type": "code",
      "metadata": {
        "id": "fU3rIp1L9HyN",
        "colab_type": "code",
        "outputId": "f1886dd9-a5fc-40d6-de79-74a530b6c3be",
        "colab": {
          "base_uri": "https://localhost:8080/",
          "height": 35
        }
      },
      "source": [
        "Df.shape"
      ],
      "execution_count": 485,
      "outputs": [
        {
          "output_type": "execute_result",
          "data": {
            "text/plain": [
              "(6806, 2)"
            ]
          },
          "metadata": {
            "tags": []
          },
          "execution_count": 485
        }
      ]
    },
    {
      "cell_type": "code",
      "metadata": {
        "id": "NeJPg-8oNAHn",
        "colab_type": "code",
        "outputId": "5c13e943-18f6-4d3c-b28e-88fd28b897fb",
        "colab": {
          "base_uri": "https://localhost:8080/",
          "height": 415
        }
      },
      "source": [
        "Df.head(10)\n",
        "Df"
      ],
      "execution_count": 486,
      "outputs": [
        {
          "output_type": "execute_result",
          "data": {
            "text/html": [
              "<div>\n",
              "<style scoped>\n",
              "    .dataframe tbody tr th:only-of-type {\n",
              "        vertical-align: middle;\n",
              "    }\n",
              "\n",
              "    .dataframe tbody tr th {\n",
              "        vertical-align: top;\n",
              "    }\n",
              "\n",
              "    .dataframe thead th {\n",
              "        text-align: right;\n",
              "    }\n",
              "</style>\n",
              "<table border=\"1\" class=\"dataframe\">\n",
              "  <thead>\n",
              "    <tr style=\"text-align: right;\">\n",
              "      <th></th>\n",
              "      <th>CONTROL</th>\n",
              "      <th>MD_EARN_WNE_P10</th>\n",
              "    </tr>\n",
              "  </thead>\n",
              "  <tbody>\n",
              "    <tr>\n",
              "      <th>0</th>\n",
              "      <td>1</td>\n",
              "      <td>31000</td>\n",
              "    </tr>\n",
              "    <tr>\n",
              "      <th>1</th>\n",
              "      <td>1</td>\n",
              "      <td>41200</td>\n",
              "    </tr>\n",
              "    <tr>\n",
              "      <th>2</th>\n",
              "      <td>2</td>\n",
              "      <td>39600</td>\n",
              "    </tr>\n",
              "    <tr>\n",
              "      <th>3</th>\n",
              "      <td>1</td>\n",
              "      <td>46700</td>\n",
              "    </tr>\n",
              "    <tr>\n",
              "      <th>4</th>\n",
              "      <td>1</td>\n",
              "      <td>27700</td>\n",
              "    </tr>\n",
              "    <tr>\n",
              "      <th>...</th>\n",
              "      <td>...</td>\n",
              "      <td>...</td>\n",
              "    </tr>\n",
              "    <tr>\n",
              "      <th>6801</th>\n",
              "      <td>1</td>\n",
              "      <td>NaN</td>\n",
              "    </tr>\n",
              "    <tr>\n",
              "      <th>6802</th>\n",
              "      <td>1</td>\n",
              "      <td>NaN</td>\n",
              "    </tr>\n",
              "    <tr>\n",
              "      <th>6803</th>\n",
              "      <td>3</td>\n",
              "      <td>NaN</td>\n",
              "    </tr>\n",
              "    <tr>\n",
              "      <th>6804</th>\n",
              "      <td>3</td>\n",
              "      <td>NaN</td>\n",
              "    </tr>\n",
              "    <tr>\n",
              "      <th>6805</th>\n",
              "      <td>1</td>\n",
              "      <td>NaN</td>\n",
              "    </tr>\n",
              "  </tbody>\n",
              "</table>\n",
              "<p>6806 rows × 2 columns</p>\n",
              "</div>"
            ],
            "text/plain": [
              "      CONTROL MD_EARN_WNE_P10\n",
              "0           1           31000\n",
              "1           1           41200\n",
              "2           2           39600\n",
              "3           1           46700\n",
              "4           1           27700\n",
              "...       ...             ...\n",
              "6801        1             NaN\n",
              "6802        1             NaN\n",
              "6803        3             NaN\n",
              "6804        3             NaN\n",
              "6805        1             NaN\n",
              "\n",
              "[6806 rows x 2 columns]"
            ]
          },
          "metadata": {
            "tags": []
          },
          "execution_count": 486
        }
      ]
    },
    {
      "cell_type": "code",
      "metadata": {
        "id": "WDfNTreyCcbS",
        "colab_type": "code",
        "outputId": "abcde2dd-1413-46ab-8025-9cbb8b4d45c8",
        "colab": {
          "base_uri": "https://localhost:8080/",
          "height": 69
        }
      },
      "source": [
        "Df.dtypes"
      ],
      "execution_count": 487,
      "outputs": [
        {
          "output_type": "execute_result",
          "data": {
            "text/plain": [
              "CONTROL             int64\n",
              "MD_EARN_WNE_P10    object\n",
              "dtype: object"
            ]
          },
          "metadata": {
            "tags": []
          },
          "execution_count": 487
        }
      ]
    },
    {
      "cell_type": "code",
      "metadata": {
        "id": "sQ3SSOAfEvGe",
        "colab_type": "code",
        "outputId": "2e285101-4903-404a-a2fe-607f5a95c8f8",
        "colab": {
          "base_uri": "https://localhost:8080/",
          "height": 69
        }
      },
      "source": [
        "Df[\"CONTROL\"]=Df[\"CONTROL\"].astype(str)\n",
        "Df.dtypes"
      ],
      "execution_count": 488,
      "outputs": [
        {
          "output_type": "execute_result",
          "data": {
            "text/plain": [
              "CONTROL            object\n",
              "MD_EARN_WNE_P10    object\n",
              "dtype: object"
            ]
          },
          "metadata": {
            "tags": []
          },
          "execution_count": 488
        }
      ]
    },
    {
      "cell_type": "code",
      "metadata": {
        "id": "4oJrhPbg2sWU",
        "colab_type": "code",
        "outputId": "7b707e6f-7955-4e8b-bdd2-161e76ef6e6d",
        "colab": {
          "base_uri": "https://localhost:8080/",
          "height": 415
        }
      },
      "source": [
        "# Filter the data to display only public institutions (using CONTROL variable)\n",
        "# Public institutions =\"1\" form documentation.\n",
        "\n",
        "Df=Df[Df[\"CONTROL\"].str.contains(\"1\")]\n",
        "Df\n",
        "\n"
      ],
      "execution_count": 489,
      "outputs": [
        {
          "output_type": "execute_result",
          "data": {
            "text/html": [
              "<div>\n",
              "<style scoped>\n",
              "    .dataframe tbody tr th:only-of-type {\n",
              "        vertical-align: middle;\n",
              "    }\n",
              "\n",
              "    .dataframe tbody tr th {\n",
              "        vertical-align: top;\n",
              "    }\n",
              "\n",
              "    .dataframe thead th {\n",
              "        text-align: right;\n",
              "    }\n",
              "</style>\n",
              "<table border=\"1\" class=\"dataframe\">\n",
              "  <thead>\n",
              "    <tr style=\"text-align: right;\">\n",
              "      <th></th>\n",
              "      <th>CONTROL</th>\n",
              "      <th>MD_EARN_WNE_P10</th>\n",
              "    </tr>\n",
              "  </thead>\n",
              "  <tbody>\n",
              "    <tr>\n",
              "      <th>0</th>\n",
              "      <td>1</td>\n",
              "      <td>31000</td>\n",
              "    </tr>\n",
              "    <tr>\n",
              "      <th>1</th>\n",
              "      <td>1</td>\n",
              "      <td>41200</td>\n",
              "    </tr>\n",
              "    <tr>\n",
              "      <th>3</th>\n",
              "      <td>1</td>\n",
              "      <td>46700</td>\n",
              "    </tr>\n",
              "    <tr>\n",
              "      <th>4</th>\n",
              "      <td>1</td>\n",
              "      <td>27700</td>\n",
              "    </tr>\n",
              "    <tr>\n",
              "      <th>5</th>\n",
              "      <td>1</td>\n",
              "      <td>44500</td>\n",
              "    </tr>\n",
              "    <tr>\n",
              "      <th>...</th>\n",
              "      <td>...</td>\n",
              "      <td>...</td>\n",
              "    </tr>\n",
              "    <tr>\n",
              "      <th>6799</th>\n",
              "      <td>1</td>\n",
              "      <td>NaN</td>\n",
              "    </tr>\n",
              "    <tr>\n",
              "      <th>6800</th>\n",
              "      <td>1</td>\n",
              "      <td>NaN</td>\n",
              "    </tr>\n",
              "    <tr>\n",
              "      <th>6801</th>\n",
              "      <td>1</td>\n",
              "      <td>NaN</td>\n",
              "    </tr>\n",
              "    <tr>\n",
              "      <th>6802</th>\n",
              "      <td>1</td>\n",
              "      <td>NaN</td>\n",
              "    </tr>\n",
              "    <tr>\n",
              "      <th>6805</th>\n",
              "      <td>1</td>\n",
              "      <td>NaN</td>\n",
              "    </tr>\n",
              "  </tbody>\n",
              "</table>\n",
              "<p>2102 rows × 2 columns</p>\n",
              "</div>"
            ],
            "text/plain": [
              "     CONTROL MD_EARN_WNE_P10\n",
              "0          1           31000\n",
              "1          1           41200\n",
              "3          1           46700\n",
              "4          1           27700\n",
              "5          1           44500\n",
              "...      ...             ...\n",
              "6799       1             NaN\n",
              "6800       1             NaN\n",
              "6801       1             NaN\n",
              "6802       1             NaN\n",
              "6805       1             NaN\n",
              "\n",
              "[2102 rows x 2 columns]"
            ]
          },
          "metadata": {
            "tags": []
          },
          "execution_count": 489
        }
      ]
    },
    {
      "cell_type": "code",
      "metadata": {
        "id": "M7kouTSP4usS",
        "colab_type": "code",
        "outputId": "44ea0b79-c562-456a-fa82-761d8b606597",
        "colab": {
          "base_uri": "https://localhost:8080/",
          "height": 415
        }
      },
      "source": [
        "# Drop the colleges that have zero or missing potential earnings\n",
        "Df= Df[Df[\"MD_EARN_WNE_P10\"]!=0]\n",
        "Df"
      ],
      "execution_count": 490,
      "outputs": [
        {
          "output_type": "execute_result",
          "data": {
            "text/html": [
              "<div>\n",
              "<style scoped>\n",
              "    .dataframe tbody tr th:only-of-type {\n",
              "        vertical-align: middle;\n",
              "    }\n",
              "\n",
              "    .dataframe tbody tr th {\n",
              "        vertical-align: top;\n",
              "    }\n",
              "\n",
              "    .dataframe thead th {\n",
              "        text-align: right;\n",
              "    }\n",
              "</style>\n",
              "<table border=\"1\" class=\"dataframe\">\n",
              "  <thead>\n",
              "    <tr style=\"text-align: right;\">\n",
              "      <th></th>\n",
              "      <th>CONTROL</th>\n",
              "      <th>MD_EARN_WNE_P10</th>\n",
              "    </tr>\n",
              "  </thead>\n",
              "  <tbody>\n",
              "    <tr>\n",
              "      <th>0</th>\n",
              "      <td>1</td>\n",
              "      <td>31000</td>\n",
              "    </tr>\n",
              "    <tr>\n",
              "      <th>1</th>\n",
              "      <td>1</td>\n",
              "      <td>41200</td>\n",
              "    </tr>\n",
              "    <tr>\n",
              "      <th>3</th>\n",
              "      <td>1</td>\n",
              "      <td>46700</td>\n",
              "    </tr>\n",
              "    <tr>\n",
              "      <th>4</th>\n",
              "      <td>1</td>\n",
              "      <td>27700</td>\n",
              "    </tr>\n",
              "    <tr>\n",
              "      <th>5</th>\n",
              "      <td>1</td>\n",
              "      <td>44500</td>\n",
              "    </tr>\n",
              "    <tr>\n",
              "      <th>...</th>\n",
              "      <td>...</td>\n",
              "      <td>...</td>\n",
              "    </tr>\n",
              "    <tr>\n",
              "      <th>6799</th>\n",
              "      <td>1</td>\n",
              "      <td>NaN</td>\n",
              "    </tr>\n",
              "    <tr>\n",
              "      <th>6800</th>\n",
              "      <td>1</td>\n",
              "      <td>NaN</td>\n",
              "    </tr>\n",
              "    <tr>\n",
              "      <th>6801</th>\n",
              "      <td>1</td>\n",
              "      <td>NaN</td>\n",
              "    </tr>\n",
              "    <tr>\n",
              "      <th>6802</th>\n",
              "      <td>1</td>\n",
              "      <td>NaN</td>\n",
              "    </tr>\n",
              "    <tr>\n",
              "      <th>6805</th>\n",
              "      <td>1</td>\n",
              "      <td>NaN</td>\n",
              "    </tr>\n",
              "  </tbody>\n",
              "</table>\n",
              "<p>2102 rows × 2 columns</p>\n",
              "</div>"
            ],
            "text/plain": [
              "     CONTROL MD_EARN_WNE_P10\n",
              "0          1           31000\n",
              "1          1           41200\n",
              "3          1           46700\n",
              "4          1           27700\n",
              "5          1           44500\n",
              "...      ...             ...\n",
              "6799       1             NaN\n",
              "6800       1             NaN\n",
              "6801       1             NaN\n",
              "6802       1             NaN\n",
              "6805       1             NaN\n",
              "\n",
              "[2102 rows x 2 columns]"
            ]
          },
          "metadata": {
            "tags": []
          },
          "execution_count": 490
        }
      ]
    },
    {
      "cell_type": "code",
      "metadata": {
        "id": "viaDsZVC_8RA",
        "colab_type": "code",
        "outputId": "0b3d839d-7f57-4c1c-e694-4341bb1a1d15",
        "colab": {
          "base_uri": "https://localhost:8080/",
          "height": 415
        }
      },
      "source": [
        "# Fiter and drop all row that containa PrivacySuppressed.\n",
        "\n",
        "Df=Df[Df[\"MD_EARN_WNE_P10\"]!=\"PrivacySuppressed\"]\n",
        "\n",
        "Df"
      ],
      "execution_count": 491,
      "outputs": [
        {
          "output_type": "execute_result",
          "data": {
            "text/html": [
              "<div>\n",
              "<style scoped>\n",
              "    .dataframe tbody tr th:only-of-type {\n",
              "        vertical-align: middle;\n",
              "    }\n",
              "\n",
              "    .dataframe tbody tr th {\n",
              "        vertical-align: top;\n",
              "    }\n",
              "\n",
              "    .dataframe thead th {\n",
              "        text-align: right;\n",
              "    }\n",
              "</style>\n",
              "<table border=\"1\" class=\"dataframe\">\n",
              "  <thead>\n",
              "    <tr style=\"text-align: right;\">\n",
              "      <th></th>\n",
              "      <th>CONTROL</th>\n",
              "      <th>MD_EARN_WNE_P10</th>\n",
              "    </tr>\n",
              "  </thead>\n",
              "  <tbody>\n",
              "    <tr>\n",
              "      <th>0</th>\n",
              "      <td>1</td>\n",
              "      <td>31000</td>\n",
              "    </tr>\n",
              "    <tr>\n",
              "      <th>1</th>\n",
              "      <td>1</td>\n",
              "      <td>41200</td>\n",
              "    </tr>\n",
              "    <tr>\n",
              "      <th>3</th>\n",
              "      <td>1</td>\n",
              "      <td>46700</td>\n",
              "    </tr>\n",
              "    <tr>\n",
              "      <th>4</th>\n",
              "      <td>1</td>\n",
              "      <td>27700</td>\n",
              "    </tr>\n",
              "    <tr>\n",
              "      <th>5</th>\n",
              "      <td>1</td>\n",
              "      <td>44500</td>\n",
              "    </tr>\n",
              "    <tr>\n",
              "      <th>...</th>\n",
              "      <td>...</td>\n",
              "      <td>...</td>\n",
              "    </tr>\n",
              "    <tr>\n",
              "      <th>6799</th>\n",
              "      <td>1</td>\n",
              "      <td>NaN</td>\n",
              "    </tr>\n",
              "    <tr>\n",
              "      <th>6800</th>\n",
              "      <td>1</td>\n",
              "      <td>NaN</td>\n",
              "    </tr>\n",
              "    <tr>\n",
              "      <th>6801</th>\n",
              "      <td>1</td>\n",
              "      <td>NaN</td>\n",
              "    </tr>\n",
              "    <tr>\n",
              "      <th>6802</th>\n",
              "      <td>1</td>\n",
              "      <td>NaN</td>\n",
              "    </tr>\n",
              "    <tr>\n",
              "      <th>6805</th>\n",
              "      <td>1</td>\n",
              "      <td>NaN</td>\n",
              "    </tr>\n",
              "  </tbody>\n",
              "</table>\n",
              "<p>2000 rows × 2 columns</p>\n",
              "</div>"
            ],
            "text/plain": [
              "     CONTROL MD_EARN_WNE_P10\n",
              "0          1           31000\n",
              "1          1           41200\n",
              "3          1           46700\n",
              "4          1           27700\n",
              "5          1           44500\n",
              "...      ...             ...\n",
              "6799       1             NaN\n",
              "6800       1             NaN\n",
              "6801       1             NaN\n",
              "6802       1             NaN\n",
              "6805       1             NaN\n",
              "\n",
              "[2000 rows x 2 columns]"
            ]
          },
          "metadata": {
            "tags": []
          },
          "execution_count": 491
        }
      ]
    },
    {
      "cell_type": "code",
      "metadata": {
        "id": "Vz3N3-hi5voe",
        "colab_type": "code",
        "outputId": "dd6db4ac-4074-4b1c-b9c0-5a5bcaeb92b1",
        "colab": {
          "base_uri": "https://localhost:8080/",
          "height": 35
        }
      },
      "source": [
        "# Finding colleges with missing  potential earnings \n",
        "Df[\"MD_EARN_WNE_P10\"].isna().sum()"
      ],
      "execution_count": 492,
      "outputs": [
        {
          "output_type": "execute_result",
          "data": {
            "text/plain": [
              "147"
            ]
          },
          "metadata": {
            "tags": []
          },
          "execution_count": 492
        }
      ]
    },
    {
      "cell_type": "code",
      "metadata": {
        "id": "kwMZyAQ1kF3t",
        "colab_type": "code",
        "outputId": "b4264003-f8f5-4187-f681-34dda346fd2e",
        "colab": {
          "base_uri": "https://localhost:8080/",
          "height": 415
        }
      },
      "source": [
        "Df=Df.fillna(0)\n",
        "Df"
      ],
      "execution_count": 493,
      "outputs": [
        {
          "output_type": "execute_result",
          "data": {
            "text/html": [
              "<div>\n",
              "<style scoped>\n",
              "    .dataframe tbody tr th:only-of-type {\n",
              "        vertical-align: middle;\n",
              "    }\n",
              "\n",
              "    .dataframe tbody tr th {\n",
              "        vertical-align: top;\n",
              "    }\n",
              "\n",
              "    .dataframe thead th {\n",
              "        text-align: right;\n",
              "    }\n",
              "</style>\n",
              "<table border=\"1\" class=\"dataframe\">\n",
              "  <thead>\n",
              "    <tr style=\"text-align: right;\">\n",
              "      <th></th>\n",
              "      <th>CONTROL</th>\n",
              "      <th>MD_EARN_WNE_P10</th>\n",
              "    </tr>\n",
              "  </thead>\n",
              "  <tbody>\n",
              "    <tr>\n",
              "      <th>0</th>\n",
              "      <td>1</td>\n",
              "      <td>31000</td>\n",
              "    </tr>\n",
              "    <tr>\n",
              "      <th>1</th>\n",
              "      <td>1</td>\n",
              "      <td>41200</td>\n",
              "    </tr>\n",
              "    <tr>\n",
              "      <th>3</th>\n",
              "      <td>1</td>\n",
              "      <td>46700</td>\n",
              "    </tr>\n",
              "    <tr>\n",
              "      <th>4</th>\n",
              "      <td>1</td>\n",
              "      <td>27700</td>\n",
              "    </tr>\n",
              "    <tr>\n",
              "      <th>5</th>\n",
              "      <td>1</td>\n",
              "      <td>44500</td>\n",
              "    </tr>\n",
              "    <tr>\n",
              "      <th>...</th>\n",
              "      <td>...</td>\n",
              "      <td>...</td>\n",
              "    </tr>\n",
              "    <tr>\n",
              "      <th>6799</th>\n",
              "      <td>1</td>\n",
              "      <td>0</td>\n",
              "    </tr>\n",
              "    <tr>\n",
              "      <th>6800</th>\n",
              "      <td>1</td>\n",
              "      <td>0</td>\n",
              "    </tr>\n",
              "    <tr>\n",
              "      <th>6801</th>\n",
              "      <td>1</td>\n",
              "      <td>0</td>\n",
              "    </tr>\n",
              "    <tr>\n",
              "      <th>6802</th>\n",
              "      <td>1</td>\n",
              "      <td>0</td>\n",
              "    </tr>\n",
              "    <tr>\n",
              "      <th>6805</th>\n",
              "      <td>1</td>\n",
              "      <td>0</td>\n",
              "    </tr>\n",
              "  </tbody>\n",
              "</table>\n",
              "<p>2000 rows × 2 columns</p>\n",
              "</div>"
            ],
            "text/plain": [
              "     CONTROL MD_EARN_WNE_P10\n",
              "0          1           31000\n",
              "1          1           41200\n",
              "3          1           46700\n",
              "4          1           27700\n",
              "5          1           44500\n",
              "...      ...             ...\n",
              "6799       1               0\n",
              "6800       1               0\n",
              "6801       1               0\n",
              "6802       1               0\n",
              "6805       1               0\n",
              "\n",
              "[2000 rows x 2 columns]"
            ]
          },
          "metadata": {
            "tags": []
          },
          "execution_count": 493
        }
      ]
    },
    {
      "cell_type": "code",
      "metadata": {
        "id": "GApM0vlhHEFC",
        "colab_type": "code",
        "outputId": "ee4bdc42-d0ae-4809-c1aa-62cbad5a16f1",
        "colab": {
          "base_uri": "https://localhost:8080/",
          "height": 415
        }
      },
      "source": [
        "Df= Df[Df[\"MD_EARN_WNE_P10\"]!=0]\n",
        "Df"
      ],
      "execution_count": 494,
      "outputs": [
        {
          "output_type": "execute_result",
          "data": {
            "text/html": [
              "<div>\n",
              "<style scoped>\n",
              "    .dataframe tbody tr th:only-of-type {\n",
              "        vertical-align: middle;\n",
              "    }\n",
              "\n",
              "    .dataframe tbody tr th {\n",
              "        vertical-align: top;\n",
              "    }\n",
              "\n",
              "    .dataframe thead th {\n",
              "        text-align: right;\n",
              "    }\n",
              "</style>\n",
              "<table border=\"1\" class=\"dataframe\">\n",
              "  <thead>\n",
              "    <tr style=\"text-align: right;\">\n",
              "      <th></th>\n",
              "      <th>CONTROL</th>\n",
              "      <th>MD_EARN_WNE_P10</th>\n",
              "    </tr>\n",
              "  </thead>\n",
              "  <tbody>\n",
              "    <tr>\n",
              "      <th>0</th>\n",
              "      <td>1</td>\n",
              "      <td>31000</td>\n",
              "    </tr>\n",
              "    <tr>\n",
              "      <th>1</th>\n",
              "      <td>1</td>\n",
              "      <td>41200</td>\n",
              "    </tr>\n",
              "    <tr>\n",
              "      <th>3</th>\n",
              "      <td>1</td>\n",
              "      <td>46700</td>\n",
              "    </tr>\n",
              "    <tr>\n",
              "      <th>4</th>\n",
              "      <td>1</td>\n",
              "      <td>27700</td>\n",
              "    </tr>\n",
              "    <tr>\n",
              "      <th>5</th>\n",
              "      <td>1</td>\n",
              "      <td>44500</td>\n",
              "    </tr>\n",
              "    <tr>\n",
              "      <th>...</th>\n",
              "      <td>...</td>\n",
              "      <td>...</td>\n",
              "    </tr>\n",
              "    <tr>\n",
              "      <th>6592</th>\n",
              "      <td>1</td>\n",
              "      <td>31700</td>\n",
              "    </tr>\n",
              "    <tr>\n",
              "      <th>6607</th>\n",
              "      <td>1</td>\n",
              "      <td>50600</td>\n",
              "    </tr>\n",
              "    <tr>\n",
              "      <th>6608</th>\n",
              "      <td>1</td>\n",
              "      <td>50600</td>\n",
              "    </tr>\n",
              "    <tr>\n",
              "      <th>6609</th>\n",
              "      <td>1</td>\n",
              "      <td>50600</td>\n",
              "    </tr>\n",
              "    <tr>\n",
              "      <th>6615</th>\n",
              "      <td>1</td>\n",
              "      <td>32000</td>\n",
              "    </tr>\n",
              "  </tbody>\n",
              "</table>\n",
              "<p>1853 rows × 2 columns</p>\n",
              "</div>"
            ],
            "text/plain": [
              "     CONTROL MD_EARN_WNE_P10\n",
              "0          1           31000\n",
              "1          1           41200\n",
              "3          1           46700\n",
              "4          1           27700\n",
              "5          1           44500\n",
              "...      ...             ...\n",
              "6592       1           31700\n",
              "6607       1           50600\n",
              "6608       1           50600\n",
              "6609       1           50600\n",
              "6615       1           32000\n",
              "\n",
              "[1853 rows x 2 columns]"
            ]
          },
          "metadata": {
            "tags": []
          },
          "execution_count": 494
        }
      ]
    },
    {
      "cell_type": "code",
      "metadata": {
        "id": "k2_z7ZwG6Oyx",
        "colab_type": "code",
        "colab": {
          "base_uri": "https://localhost:8080/",
          "height": 183
        },
        "outputId": "1333521e-8fb1-472e-81fe-07328dec6ead"
      },
      "source": [
        "# droping out colleges with missing potential earnings\n",
        "#Df=Df[\"MD_EARN_WNE_P10\"].dropna()\n",
        "#Df #This gives our working population."
      ],
      "execution_count": 428,
      "outputs": [
        {
          "output_type": "error",
          "ename": "TypeError",
          "evalue": "ignored",
          "traceback": [
            "\u001b[0;31m---------------------------------------------------------------------------\u001b[0m",
            "\u001b[0;31mTypeError\u001b[0m                                 Traceback (most recent call last)",
            "\u001b[0;32m<ipython-input-428-cfb1279e85f3>\u001b[0m in \u001b[0;36m<module>\u001b[0;34m()\u001b[0m\n\u001b[0;32m----> 1\u001b[0;31m \u001b[0mDf\u001b[0m\u001b[0;34m=\u001b[0m\u001b[0mDf\u001b[0m\u001b[0;34m[\u001b[0m\u001b[0;34m\"MD_EARN_WNE_P10\"\u001b[0m\u001b[0;34m]\u001b[0m\u001b[0;34m.\u001b[0m\u001b[0mdropna\u001b[0m\u001b[0;34m(\u001b[0m\u001b[0;34m)\u001b[0m\u001b[0;34m\u001b[0m\u001b[0;34m\u001b[0m\u001b[0m\n\u001b[0m\u001b[1;32m      2\u001b[0m \u001b[0;31m#Df #This gives our working population.\u001b[0m\u001b[0;34m\u001b[0m\u001b[0;34m\u001b[0m\u001b[0;34m\u001b[0m\u001b[0m\n",
            "\u001b[0;31mTypeError\u001b[0m: 'NoneType' object is not subscriptable"
          ]
        }
      ]
    },
    {
      "cell_type": "code",
      "metadata": {
        "id": "MlEyVgR1nBi2",
        "colab_type": "code",
        "colab": {
          "base_uri": "https://localhost:8080/",
          "height": 519
        },
        "outputId": "93970387-c52a-40f9-aa5a-58b2576540a3"
      },
      "source": [
        "#Df[\"MD_EARN_WNE_P10\"]=Df[\"MD_EARN_WNE_P10\"].astype(int)\n",
        "Df[\"MD_EARN_WNE_P10\"]=Df[\"MD_EARN_WNE_P10\"].astype(int)\n",
        "Df"
      ],
      "execution_count": 496,
      "outputs": [
        {
          "output_type": "stream",
          "text": [
            "/usr/local/lib/python3.6/dist-packages/ipykernel_launcher.py:1: SettingWithCopyWarning: \n",
            "A value is trying to be set on a copy of a slice from a DataFrame.\n",
            "Try using .loc[row_indexer,col_indexer] = value instead\n",
            "\n",
            "See the caveats in the documentation: https://pandas.pydata.org/pandas-docs/stable/user_guide/indexing.html#returning-a-view-versus-a-copy\n",
            "  \"\"\"Entry point for launching an IPython kernel.\n"
          ],
          "name": "stderr"
        },
        {
          "output_type": "execute_result",
          "data": {
            "text/html": [
              "<div>\n",
              "<style scoped>\n",
              "    .dataframe tbody tr th:only-of-type {\n",
              "        vertical-align: middle;\n",
              "    }\n",
              "\n",
              "    .dataframe tbody tr th {\n",
              "        vertical-align: top;\n",
              "    }\n",
              "\n",
              "    .dataframe thead th {\n",
              "        text-align: right;\n",
              "    }\n",
              "</style>\n",
              "<table border=\"1\" class=\"dataframe\">\n",
              "  <thead>\n",
              "    <tr style=\"text-align: right;\">\n",
              "      <th></th>\n",
              "      <th>CONTROL</th>\n",
              "      <th>MD_EARN_WNE_P10</th>\n",
              "    </tr>\n",
              "  </thead>\n",
              "  <tbody>\n",
              "    <tr>\n",
              "      <th>0</th>\n",
              "      <td>1</td>\n",
              "      <td>31000</td>\n",
              "    </tr>\n",
              "    <tr>\n",
              "      <th>1</th>\n",
              "      <td>1</td>\n",
              "      <td>41200</td>\n",
              "    </tr>\n",
              "    <tr>\n",
              "      <th>3</th>\n",
              "      <td>1</td>\n",
              "      <td>46700</td>\n",
              "    </tr>\n",
              "    <tr>\n",
              "      <th>4</th>\n",
              "      <td>1</td>\n",
              "      <td>27700</td>\n",
              "    </tr>\n",
              "    <tr>\n",
              "      <th>5</th>\n",
              "      <td>1</td>\n",
              "      <td>44500</td>\n",
              "    </tr>\n",
              "    <tr>\n",
              "      <th>...</th>\n",
              "      <td>...</td>\n",
              "      <td>...</td>\n",
              "    </tr>\n",
              "    <tr>\n",
              "      <th>6592</th>\n",
              "      <td>1</td>\n",
              "      <td>31700</td>\n",
              "    </tr>\n",
              "    <tr>\n",
              "      <th>6607</th>\n",
              "      <td>1</td>\n",
              "      <td>50600</td>\n",
              "    </tr>\n",
              "    <tr>\n",
              "      <th>6608</th>\n",
              "      <td>1</td>\n",
              "      <td>50600</td>\n",
              "    </tr>\n",
              "    <tr>\n",
              "      <th>6609</th>\n",
              "      <td>1</td>\n",
              "      <td>50600</td>\n",
              "    </tr>\n",
              "    <tr>\n",
              "      <th>6615</th>\n",
              "      <td>1</td>\n",
              "      <td>32000</td>\n",
              "    </tr>\n",
              "  </tbody>\n",
              "</table>\n",
              "<p>1853 rows × 2 columns</p>\n",
              "</div>"
            ],
            "text/plain": [
              "     CONTROL  MD_EARN_WNE_P10\n",
              "0          1            31000\n",
              "1          1            41200\n",
              "3          1            46700\n",
              "4          1            27700\n",
              "5          1            44500\n",
              "...      ...              ...\n",
              "6592       1            31700\n",
              "6607       1            50600\n",
              "6608       1            50600\n",
              "6609       1            50600\n",
              "6615       1            32000\n",
              "\n",
              "[1853 rows x 2 columns]"
            ]
          },
          "metadata": {
            "tags": []
          },
          "execution_count": 496
        }
      ]
    },
    {
      "cell_type": "code",
      "metadata": {
        "id": "vUvX1hEHbh1h",
        "colab_type": "code",
        "outputId": "d5cbe041-9ccc-40d8-83b6-2591fce914f8",
        "colab": {
          "base_uri": "https://localhost:8080/",
          "height": 1000
        }
      },
      "source": [
        "# selecting 50 random colleges from the population\n",
        "Df.sample(50)"
      ],
      "execution_count": 497,
      "outputs": [
        {
          "output_type": "execute_result",
          "data": {
            "text/html": [
              "<div>\n",
              "<style scoped>\n",
              "    .dataframe tbody tr th:only-of-type {\n",
              "        vertical-align: middle;\n",
              "    }\n",
              "\n",
              "    .dataframe tbody tr th {\n",
              "        vertical-align: top;\n",
              "    }\n",
              "\n",
              "    .dataframe thead th {\n",
              "        text-align: right;\n",
              "    }\n",
              "</style>\n",
              "<table border=\"1\" class=\"dataframe\">\n",
              "  <thead>\n",
              "    <tr style=\"text-align: right;\">\n",
              "      <th></th>\n",
              "      <th>CONTROL</th>\n",
              "      <th>MD_EARN_WNE_P10</th>\n",
              "    </tr>\n",
              "  </thead>\n",
              "  <tbody>\n",
              "    <tr>\n",
              "      <th>3179</th>\n",
              "      <td>1</td>\n",
              "      <td>34900</td>\n",
              "    </tr>\n",
              "    <tr>\n",
              "      <th>1807</th>\n",
              "      <td>1</td>\n",
              "      <td>28600</td>\n",
              "    </tr>\n",
              "    <tr>\n",
              "      <th>3712</th>\n",
              "      <td>1</td>\n",
              "      <td>34500</td>\n",
              "    </tr>\n",
              "    <tr>\n",
              "      <th>2278</th>\n",
              "      <td>1</td>\n",
              "      <td>32100</td>\n",
              "    </tr>\n",
              "    <tr>\n",
              "      <th>660</th>\n",
              "      <td>1</td>\n",
              "      <td>29300</td>\n",
              "    </tr>\n",
              "    <tr>\n",
              "      <th>2774</th>\n",
              "      <td>1</td>\n",
              "      <td>32300</td>\n",
              "    </tr>\n",
              "    <tr>\n",
              "      <th>829</th>\n",
              "      <td>1</td>\n",
              "      <td>22500</td>\n",
              "    </tr>\n",
              "    <tr>\n",
              "      <th>3737</th>\n",
              "      <td>1</td>\n",
              "      <td>35900</td>\n",
              "    </tr>\n",
              "    <tr>\n",
              "      <th>3980</th>\n",
              "      <td>1</td>\n",
              "      <td>27300</td>\n",
              "    </tr>\n",
              "    <tr>\n",
              "      <th>3185</th>\n",
              "      <td>1</td>\n",
              "      <td>29400</td>\n",
              "    </tr>\n",
              "    <tr>\n",
              "      <th>1681</th>\n",
              "      <td>1</td>\n",
              "      <td>38500</td>\n",
              "    </tr>\n",
              "    <tr>\n",
              "      <th>597</th>\n",
              "      <td>1</td>\n",
              "      <td>32800</td>\n",
              "    </tr>\n",
              "    <tr>\n",
              "      <th>840</th>\n",
              "      <td>1</td>\n",
              "      <td>37200</td>\n",
              "    </tr>\n",
              "    <tr>\n",
              "      <th>1633</th>\n",
              "      <td>1</td>\n",
              "      <td>35500</td>\n",
              "    </tr>\n",
              "    <tr>\n",
              "      <th>1006</th>\n",
              "      <td>1</td>\n",
              "      <td>44600</td>\n",
              "    </tr>\n",
              "    <tr>\n",
              "      <th>3383</th>\n",
              "      <td>1</td>\n",
              "      <td>26200</td>\n",
              "    </tr>\n",
              "    <tr>\n",
              "      <th>705</th>\n",
              "      <td>1</td>\n",
              "      <td>27800</td>\n",
              "    </tr>\n",
              "    <tr>\n",
              "      <th>3259</th>\n",
              "      <td>1</td>\n",
              "      <td>45100</td>\n",
              "    </tr>\n",
              "    <tr>\n",
              "      <th>2598</th>\n",
              "      <td>1</td>\n",
              "      <td>40300</td>\n",
              "    </tr>\n",
              "    <tr>\n",
              "      <th>2210</th>\n",
              "      <td>1</td>\n",
              "      <td>37100</td>\n",
              "    </tr>\n",
              "    <tr>\n",
              "      <th>3976</th>\n",
              "      <td>1</td>\n",
              "      <td>30800</td>\n",
              "    </tr>\n",
              "    <tr>\n",
              "      <th>784</th>\n",
              "      <td>1</td>\n",
              "      <td>32300</td>\n",
              "    </tr>\n",
              "    <tr>\n",
              "      <th>3114</th>\n",
              "      <td>1</td>\n",
              "      <td>25800</td>\n",
              "    </tr>\n",
              "    <tr>\n",
              "      <th>3299</th>\n",
              "      <td>1</td>\n",
              "      <td>30600</td>\n",
              "    </tr>\n",
              "    <tr>\n",
              "      <th>1814</th>\n",
              "      <td>1</td>\n",
              "      <td>28900</td>\n",
              "    </tr>\n",
              "    <tr>\n",
              "      <th>4329</th>\n",
              "      <td>1</td>\n",
              "      <td>32600</td>\n",
              "    </tr>\n",
              "    <tr>\n",
              "      <th>5809</th>\n",
              "      <td>1</td>\n",
              "      <td>41900</td>\n",
              "    </tr>\n",
              "    <tr>\n",
              "      <th>996</th>\n",
              "      <td>1</td>\n",
              "      <td>30300</td>\n",
              "    </tr>\n",
              "    <tr>\n",
              "      <th>1545</th>\n",
              "      <td>1</td>\n",
              "      <td>40300</td>\n",
              "    </tr>\n",
              "    <tr>\n",
              "      <th>1373</th>\n",
              "      <td>1</td>\n",
              "      <td>32400</td>\n",
              "    </tr>\n",
              "    <tr>\n",
              "      <th>2667</th>\n",
              "      <td>1</td>\n",
              "      <td>40500</td>\n",
              "    </tr>\n",
              "    <tr>\n",
              "      <th>3664</th>\n",
              "      <td>1</td>\n",
              "      <td>33000</td>\n",
              "    </tr>\n",
              "    <tr>\n",
              "      <th>3602</th>\n",
              "      <td>1</td>\n",
              "      <td>37600</td>\n",
              "    </tr>\n",
              "    <tr>\n",
              "      <th>3289</th>\n",
              "      <td>1</td>\n",
              "      <td>27900</td>\n",
              "    </tr>\n",
              "    <tr>\n",
              "      <th>4379</th>\n",
              "      <td>1</td>\n",
              "      <td>37300</td>\n",
              "    </tr>\n",
              "    <tr>\n",
              "      <th>1371</th>\n",
              "      <td>1</td>\n",
              "      <td>42500</td>\n",
              "    </tr>\n",
              "    <tr>\n",
              "      <th>1999</th>\n",
              "      <td>1</td>\n",
              "      <td>32800</td>\n",
              "    </tr>\n",
              "    <tr>\n",
              "      <th>3478</th>\n",
              "      <td>1</td>\n",
              "      <td>53000</td>\n",
              "    </tr>\n",
              "    <tr>\n",
              "      <th>3698</th>\n",
              "      <td>1</td>\n",
              "      <td>36500</td>\n",
              "    </tr>\n",
              "    <tr>\n",
              "      <th>3981</th>\n",
              "      <td>1</td>\n",
              "      <td>34100</td>\n",
              "    </tr>\n",
              "    <tr>\n",
              "      <th>2349</th>\n",
              "      <td>1</td>\n",
              "      <td>82800</td>\n",
              "    </tr>\n",
              "    <tr>\n",
              "      <th>3996</th>\n",
              "      <td>1</td>\n",
              "      <td>38500</td>\n",
              "    </tr>\n",
              "    <tr>\n",
              "      <th>2747</th>\n",
              "      <td>1</td>\n",
              "      <td>36700</td>\n",
              "    </tr>\n",
              "    <tr>\n",
              "      <th>3993</th>\n",
              "      <td>1</td>\n",
              "      <td>16100</td>\n",
              "    </tr>\n",
              "    <tr>\n",
              "      <th>1898</th>\n",
              "      <td>1</td>\n",
              "      <td>31100</td>\n",
              "    </tr>\n",
              "    <tr>\n",
              "      <th>263</th>\n",
              "      <td>1</td>\n",
              "      <td>35100</td>\n",
              "    </tr>\n",
              "    <tr>\n",
              "      <th>4534</th>\n",
              "      <td>1</td>\n",
              "      <td>42100</td>\n",
              "    </tr>\n",
              "    <tr>\n",
              "      <th>1430</th>\n",
              "      <td>1</td>\n",
              "      <td>50500</td>\n",
              "    </tr>\n",
              "    <tr>\n",
              "      <th>2475</th>\n",
              "      <td>1</td>\n",
              "      <td>22500</td>\n",
              "    </tr>\n",
              "    <tr>\n",
              "      <th>4328</th>\n",
              "      <td>1</td>\n",
              "      <td>28000</td>\n",
              "    </tr>\n",
              "  </tbody>\n",
              "</table>\n",
              "</div>"
            ],
            "text/plain": [
              "     CONTROL  MD_EARN_WNE_P10\n",
              "3179       1            34900\n",
              "1807       1            28600\n",
              "3712       1            34500\n",
              "2278       1            32100\n",
              "660        1            29300\n",
              "2774       1            32300\n",
              "829        1            22500\n",
              "3737       1            35900\n",
              "3980       1            27300\n",
              "3185       1            29400\n",
              "1681       1            38500\n",
              "597        1            32800\n",
              "840        1            37200\n",
              "1633       1            35500\n",
              "1006       1            44600\n",
              "3383       1            26200\n",
              "705        1            27800\n",
              "3259       1            45100\n",
              "2598       1            40300\n",
              "2210       1            37100\n",
              "3976       1            30800\n",
              "784        1            32300\n",
              "3114       1            25800\n",
              "3299       1            30600\n",
              "1814       1            28900\n",
              "4329       1            32600\n",
              "5809       1            41900\n",
              "996        1            30300\n",
              "1545       1            40300\n",
              "1373       1            32400\n",
              "2667       1            40500\n",
              "3664       1            33000\n",
              "3602       1            37600\n",
              "3289       1            27900\n",
              "4379       1            37300\n",
              "1371       1            42500\n",
              "1999       1            32800\n",
              "3478       1            53000\n",
              "3698       1            36500\n",
              "3981       1            34100\n",
              "2349       1            82800\n",
              "3996       1            38500\n",
              "2747       1            36700\n",
              "3993       1            16100\n",
              "1898       1            31100\n",
              "263        1            35100\n",
              "4534       1            42100\n",
              "1430       1            50500\n",
              "2475       1            22500\n",
              "4328       1            28000"
            ]
          },
          "metadata": {
            "tags": []
          },
          "execution_count": 497
        }
      ]
    },
    {
      "cell_type": "code",
      "metadata": {
        "id": "jNqus0x1cnTc",
        "colab_type": "code",
        "outputId": "0c0b6186-f658-4a13-fcd4-6614525a6570",
        "colab": {
          "base_uri": "https://localhost:8080/",
          "height": 35
        }
      },
      "source": [
        "# Calculating mean of sample\n",
        "sample_size=50\n",
        "\n",
        "Df_sample = Df.sample(sample_size)\n",
        "sample_mean = Df_sample[\"MD_EARN_WNE_P10\"].mean()\n",
        "sample_mean    "
      ],
      "execution_count": 498,
      "outputs": [
        {
          "output_type": "execute_result",
          "data": {
            "text/plain": [
              "35570.0"
            ]
          },
          "metadata": {
            "tags": []
          },
          "execution_count": 498
        }
      ]
    },
    {
      "cell_type": "code",
      "metadata": {
        "id": "t2H8l5tacnqp",
        "colab_type": "code",
        "outputId": "e82b24d6-93de-4133-aa2b-b98cc633223d",
        "colab": {
          "base_uri": "https://localhost:8080/",
          "height": 35
        }
      },
      "source": [
        "# calculating the sample standard deviation the hard way\n",
        "\n",
        "Wage_list = list(Df_sample[\"MD_EARN_WNE_P10\"])\n",
        "degree_of_freedom = sample_size - 1\n",
        "variance = 0\n",
        "for wage in Wage_list:\n",
        "  variance += (wage-sample_mean)**2\n",
        "sample_std = math.sqrt(variance/degree_of_freedom)\n",
        "round(sample_std, 2)"
      ],
      "execution_count": 499,
      "outputs": [
        {
          "output_type": "execute_result",
          "data": {
            "text/plain": [
              "11205.16"
            ]
          },
          "metadata": {
            "tags": []
          },
          "execution_count": 499
        }
      ]
    },
    {
      "cell_type": "code",
      "metadata": {
        "id": "JbLsgma6cn_9",
        "colab_type": "code",
        "outputId": "4cfaaf5f-8e2b-4a95-f60e-1cdb4c915a7e",
        "colab": {
          "base_uri": "https://localhost:8080/",
          "height": 35
        }
      },
      "source": [
        "# Calculating sample standard deviation alternatively using Pandas.\n",
        "sample_std = Df_sample[\"MD_EARN_WNE_P10\"].std()\n",
        "round(sample_std, 2)"
      ],
      "execution_count": 500,
      "outputs": [
        {
          "output_type": "execute_result",
          "data": {
            "text/plain": [
              "11205.16"
            ]
          },
          "metadata": {
            "tags": []
          },
          "execution_count": 500
        }
      ]
    },
    {
      "cell_type": "code",
      "metadata": {
        "id": "ZZ5z2sZhoW4y",
        "colab_type": "code",
        "colab": {
          "base_uri": "https://localhost:8080/",
          "height": 35
        },
        "outputId": "56f09c3f-2906-487f-dce9-885d8c75eba3"
      },
      "source": [
        "# Calculating sample standard deviation using numpy.\n",
        "sample_std = np.std(Df_sample[\"MD_EARN_WNE_P10\"], ddof=1)\n",
        "round(sample_std, 2)"
      ],
      "execution_count": 501,
      "outputs": [
        {
          "output_type": "execute_result",
          "data": {
            "text/plain": [
              "11205.16"
            ]
          },
          "metadata": {
            "tags": []
          },
          "execution_count": 501
        }
      ]
    },
    {
      "cell_type": "code",
      "metadata": {
        "id": "LHfAJTSloXQp",
        "colab_type": "code",
        "colab": {
          "base_uri": "https://localhost:8080/",
          "height": 35
        },
        "outputId": "ff2daff0-10d9-41b3-9e87-157fd5647ee8"
      },
      "source": [
        "# To be able to calculate CI, we must calculate the standard error first \n",
        "# Since we assume we don't know the population standard deviation, we use sample standard deviation as an estimate\n",
        "\n",
        "std_err = sample_std / math.sqrt(sample_size)       \n",
        "std_err"
      ],
      "execution_count": 502,
      "outputs": [
        {
          "output_type": "execute_result",
          "data": {
            "text/plain": [
              "1584.6489342747054"
            ]
          },
          "metadata": {
            "tags": []
          },
          "execution_count": 502
        }
      ]
    },
    {
      "cell_type": "code",
      "metadata": {
        "id": "fj3Ln4o1sapZ",
        "colab_type": "code",
        "colab": {
          "base_uri": "https://localhost:8080/",
          "height": 52
        },
        "outputId": "e6a7cfd8-8b3f-4aec-ae6b-f8000ae14955"
      },
      "source": [
        "# Calculate 68% Confidence Interval (CI) - one standard error from the population mean\n",
        "# 68% chances the population mean is within the sample_mean (+ or -) the standard error (SE)\n",
        "\n",
        "LCL_68 = sample_mean -  std_err\n",
        "UCL_68 = sample_mean +  std_err\n",
        "\n",
        "print(\"Lower confidence limit at 68% confidence level = \", round(LCL_68,2))\n",
        "print(\"Upper confidence limit at 68% confidence level = \", round(UCL_68,2))"
      ],
      "execution_count": 503,
      "outputs": [
        {
          "output_type": "stream",
          "text": [
            "Lower confidence limit at 68% confidence level =  33985.35\n",
            "Upper confidence limit at 68% confidence level =  37154.65\n"
          ],
          "name": "stdout"
        }
      ]
    },
    {
      "cell_type": "code",
      "metadata": {
        "id": "ogMLaO0Zsa0t",
        "colab_type": "code",
        "colab": {
          "base_uri": "https://localhost:8080/",
          "height": 52
        },
        "outputId": "909983c6-261b-4cfa-ac5f-6f67f48bea46"
      },
      "source": [
        "# Calculate 95% Confidence Interval (CI) - one standard error from the population mean\n",
        "# 90% chances the population mean is within the sample_mean + or - 2 * the standard error (SE)\n",
        "\n",
        "LCL_95 = sample_mean -  2 * std_err\n",
        "UCL_95 = sample_mean +  2 * std_err\n",
        "print(\"Lower confidence limit at 95% confidence level = \", round(LCL_95,2))\n",
        "print(\"Upper confidence limit at 95% confidence level = \", round(UCL_95,2))\n"
      ],
      "execution_count": 504,
      "outputs": [
        {
          "output_type": "stream",
          "text": [
            "Lower confidence limit at 95% confidence level =  32400.7\n",
            "Upper confidence limit at 95% confidence level =  38739.3\n"
          ],
          "name": "stdout"
        }
      ]
    },
    {
      "cell_type": "code",
      "metadata": {
        "id": "XErS0usRsa3u",
        "colab_type": "code",
        "colab": {
          "base_uri": "https://localhost:8080/",
          "height": 52
        },
        "outputId": "27d9bbf1-49aa-49f5-e478-001b14649f05"
      },
      "source": [
        "# Calculate 99.7% Confidence Interval (CI) - one standard error from the population mean\n",
        "# 99.7% chances the population mean is within the sample_mean + or - 3 * the standard error (SE)\n",
        "\n",
        "LCL_997 = sample_mean -  3 * std_err\n",
        "UCL_997 = sample_mean +  3 * std_err\n",
        "print(\"Lower confidence limit at 99.7% confidence level = \", round(LCL_997,2))\n",
        "print(\"Upper confidence limit at 99.7% confidence level = \", round(UCL_997,2))"
      ],
      "execution_count": 505,
      "outputs": [
        {
          "output_type": "stream",
          "text": [
            "Lower confidence limit at 99.7% confidence level =  30816.05\n",
            "Upper confidence limit at 99.7% confidence level =  40323.95\n"
          ],
          "name": "stdout"
        }
      ]
    },
    {
      "cell_type": "code",
      "metadata": {
        "id": "DOufex8dsa7D",
        "colab_type": "code",
        "colab": {
          "base_uri": "https://localhost:8080/",
          "height": 35
        },
        "outputId": "7b6750ab-3910-4631-8b40-054d049be0e8"
      },
      "source": [
        "# Calculate population mean\n",
        "\n",
        "Df[\"MD_EARN_WNE_P10\"].mean()"
      ],
      "execution_count": 506,
      "outputs": [
        {
          "output_type": "execute_result",
          "data": {
            "text/plain": [
              "36083.21640582839"
            ]
          },
          "metadata": {
            "tags": []
          },
          "execution_count": 506
        }
      ]
    },
    {
      "cell_type": "code",
      "metadata": {
        "id": "WnbcMa3atuV7",
        "colab_type": "code",
        "colab": {
          "base_uri": "https://localhost:8080/",
          "height": 35
        },
        "outputId": "4f686b38-4c2d-40e8-8fcc-8f7a6f7b28bd"
      },
      "source": [
        "# Sample_Size=100\n",
        "# Calculating mean of Sample\n",
        "Sample_Size=100\n",
        "\n",
        "Df_Sample = Df.sample(Sample_Size)\n",
        "Sample_mean = Df_Sample[\"MD_EARN_WNE_P10\"].mean()\n",
        "Sample_mean "
      ],
      "execution_count": 507,
      "outputs": [
        {
          "output_type": "execute_result",
          "data": {
            "text/plain": [
              "34646.0"
            ]
          },
          "metadata": {
            "tags": []
          },
          "execution_count": 507
        }
      ]
    },
    {
      "cell_type": "code",
      "metadata": {
        "id": "bBBV5S_dtugK",
        "colab_type": "code",
        "colab": {
          "base_uri": "https://localhost:8080/",
          "height": 35
        },
        "outputId": "92735ece-90e6-4e94-bc20-3aaa13b08cd3"
      },
      "source": [
        "# Calculating sample standard deviation alternatively using Pandas.\n",
        "Sample_std = Df_Sample[\"MD_EARN_WNE_P10\"].std()\n",
        "round(Sample_std, 2)"
      ],
      "execution_count": 508,
      "outputs": [
        {
          "output_type": "execute_result",
          "data": {
            "text/plain": [
              "10007.09"
            ]
          },
          "metadata": {
            "tags": []
          },
          "execution_count": 508
        }
      ]
    },
    {
      "cell_type": "code",
      "metadata": {
        "id": "H_IPe-RhtujK",
        "colab_type": "code",
        "colab": {
          "base_uri": "https://localhost:8080/",
          "height": 35
        },
        "outputId": "7354211f-86d9-465b-a0c6-d447bf0b8d67"
      },
      "source": [
        "# To be able to calculate CI, we must calculate the standard error first \n",
        "# Since we assume we don't know the population standard deviation, we use sample standard deviation as an estimate\n",
        "\n",
        "Std_err = Sample_std / math.sqrt(Sample_Size)       \n",
        "Std_err"
      ],
      "execution_count": 509,
      "outputs": [
        {
          "output_type": "execute_result",
          "data": {
            "text/plain": [
              "1000.709263624071"
            ]
          },
          "metadata": {
            "tags": []
          },
          "execution_count": 509
        }
      ]
    },
    {
      "cell_type": "code",
      "metadata": {
        "id": "FQ9p3WnOtunc",
        "colab_type": "code",
        "colab": {
          "base_uri": "https://localhost:8080/",
          "height": 52
        },
        "outputId": "3f6d3b27-acc1-4cd5-d861-5ef008d6dfb8"
      },
      "source": [
        "# Calculate 68% Confidence Interval (CI) - one standard error from the population mean\n",
        "# 68% chances the population mean is within the sample_mean (+ or -) the standard error (SE)\n",
        "\n",
        "LCL_68 = Sample_mean -  Std_err\n",
        "UCL_68 = Sample_mean +  Std_err\n",
        "\n",
        "print(\"Lower confidence limit at 68% confidence level = \", round(LCL_68,2))\n",
        "print(\"Upper confidence limit at 68% confidence level = \", round(UCL_68,2))"
      ],
      "execution_count": 510,
      "outputs": [
        {
          "output_type": "stream",
          "text": [
            "Lower confidence limit at 68% confidence level =  33645.29\n",
            "Upper confidence limit at 68% confidence level =  35646.71\n"
          ],
          "name": "stdout"
        }
      ]
    },
    {
      "cell_type": "code",
      "metadata": {
        "id": "XG-8_v3atuq0",
        "colab_type": "code",
        "colab": {
          "base_uri": "https://localhost:8080/",
          "height": 52
        },
        "outputId": "41a49cf9-270e-4ded-ee43-f0906d3f3c5c"
      },
      "source": [
        "# Calculate 95% Confidence Interval (CI) - one standard error from the population mean\n",
        "# 90% chances the population mean is within the sample_mean + or - 2 * the standard error (SE)\n",
        "\n",
        "LCL_95 = Sample_mean -  2 * Std_err\n",
        "UCL_95 = Sample_mean +  2 * Std_err\n",
        "print(\"Lower confidence limit at 95% confidence level = \", round(LCL_95,2))\n",
        "print(\"Upper confidence limit at 95% confidence level = \", round(UCL_95,2))\n"
      ],
      "execution_count": 511,
      "outputs": [
        {
          "output_type": "stream",
          "text": [
            "Lower confidence limit at 95% confidence level =  32644.58\n",
            "Upper confidence limit at 95% confidence level =  36647.42\n"
          ],
          "name": "stdout"
        }
      ]
    },
    {
      "cell_type": "code",
      "metadata": {
        "id": "LONdvipxxd5A",
        "colab_type": "code",
        "colab": {
          "base_uri": "https://localhost:8080/",
          "height": 52
        },
        "outputId": "3b87051e-6082-46d7-d005-4f6de43369d7"
      },
      "source": [
        "# Calculate 99.7% Confidence Interval (CI) - one standard error from the population mean\n",
        "# 99.7% chances the population mean is within the sample_mean + or - 3 * the standard error (SE)\n",
        "\n",
        "LCL_997 = Sample_mean -  3 * Std_err\n",
        "UCL_997 = Sample_mean +  3 * Std_err\n",
        "print(\"Lower confidence limit at 99.7% confidence level = \", round(LCL_997,2))\n",
        "print(\"Upper confidence limit at 99.7% confidence level = \", round(UCL_997,2))"
      ],
      "execution_count": 512,
      "outputs": [
        {
          "output_type": "stream",
          "text": [
            "Lower confidence limit at 99.7% confidence level =  31643.87\n",
            "Upper confidence limit at 99.7% confidence level =  37648.13\n"
          ],
          "name": "stdout"
        }
      ]
    },
    {
      "cell_type": "code",
      "metadata": {
        "id": "h-g6NUD4xeGp",
        "colab_type": "code",
        "colab": {}
      },
      "source": [
        ""
      ],
      "execution_count": 0,
      "outputs": []
    },
    {
      "cell_type": "markdown",
      "metadata": {
        "id": "Y9sKFFiuxv1O",
        "colab_type": "text"
      },
      "source": [
        "## Obervation.\n",
        "The higher the sample size, the closer the sample mean to the population mean, and the closer the sample mean is located within the CI of the population mean."
      ]
    }
  ]
}