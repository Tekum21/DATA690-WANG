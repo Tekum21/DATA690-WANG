{
 "cells": [
  {
   "cell_type": "code",
   "execution_count": null,
   "metadata": {},
   "outputs": [],
   "source": [
    "# Exercise 1\n",
    "# Step identifying variables\n",
    "name=input('what is your name:')\n",
    "age=int(input('what is your age: '))\n",
    "# the {} signs are place holders for the qauntities in the brakets after format in the print statement below.\n",
    "print((\"{},you will be 100yrs old in,{}\".format(name,(100-age)+2020)))  \n",
    "\n",
    "#this will print the out put message multiple times. \n",
    "while True:\n",
    "    print(\" hello {},you will be 100yrs old in {}\".format(name,(100-age)+2020))\n",
    "    \n",
    "#OR\n",
    "\n",
    "\n",
    "name=input(\"what is your name:\")\n",
    "age=int(input(\"what is your age\"))\n",
    "year=int((2020 +age)-100)\n",
    "print(\"{},you will be 100yrs old in,{}\".format(name,year))"
   ]
  },
  {
   "cell_type": "code",
   "execution_count": null,
   "metadata": {},
   "outputs": [],
   "source": [
    "# Exercise 2\n",
    "#let us promt the user to enter a number, then we pass the int function to convert whatever input into an int.\n",
    "#next we divide the number by 2, using the modulus operator\n",
    "#if the remender equals zero, then the number if even.otherwise it is odd.\n",
    "\n",
    "number=int(input('enter an number:'))\n",
    "if number%2:\n",
    "        print(\"number is odd\")\n",
    "else:\n",
    "    print(\"number is even\")\n",
    "    \n",
    "\n",
    "#OR\n",
    "\n",
    "number=int(input(\"enter an number: \"))\n",
    "if number%2==0:\n",
    "    print(\"number is even\")\n",
    "else:\n",
    "    print(\"number is odd\")\n",
    "\n",
    "\n",
    "#Extras 1:to verify, a number is amultiple of 4 and also and even or odd number.\n",
    "\n",
    "\n",
    "\n",
    "\n",
    "number=int(input(\"enter an number: \"))\n",
    "if number%2==0:\n",
    "    print(\"number is even\")\n",
    "if number%4==0:\n",
    "    print(\"this is a muliple of 4\")\n",
    "else:\n",
    "    print(\"number is odd\")"
   ]
  },
  {
   "cell_type": "code",
   "execution_count": null,
   "metadata": {},
   "outputs": [],
   "source": [
    "# Exercise 3\n",
    "#from the list we shall find all numbers less than 15.\n",
    "list=[8,9,38,526,8,20,7,38,9,0,2,5,3,11,20,13,25,14]\n",
    "list1=[]\n",
    "for i in list:\n",
    "    if i<15:\n",
    "        print(i)\n",
    "\n",
    "        \n",
    "#Extras 1,\n",
    "#we simply continue to print the codes below the last print(i) statement above.\n",
    "        list1.append(i)\n",
    "print(list1)       "
   ]
  },
  {
   "cell_type": "code",
   "execution_count": null,
   "metadata": {},
   "outputs": [],
   "source": [
    "#Exercise 4:\n",
    "a=int(input(\"enter an muber:\"))\n",
    "# We begin our range from 2, 1 because divisor to every number!\n",
    "for i in range(2,a):\n",
    "    if a%i==0:\n",
    "        print(i)"
   ]
  },
  {
   "cell_type": "code",
   "execution_count": null,
   "metadata": {},
   "outputs": [],
   "source": [
    "#Exercise 5;\n",
    "#lets def three lists\n",
    "a=[7,6,5,46,48,4,77,21,75,74,3,66,2,1]\n",
    "b=[6,21,6,96,4,2,1,26,5,7,45,3]\n",
    "c=[]\n",
    "#We define new variables converting my lists into sets, since we can perform intersection and union with list directly.\n",
    "sa=set(a)\n",
    "sb=set(b)\n",
    "sc=set(c)\n",
    "print(sa)\n",
    "print(sb)\n",
    "sc=sa & sb\n",
    "print(list(sc))\n"
   ]
  },
  {
   "cell_type": "code",
   "execution_count": null,
   "metadata": {},
   "outputs": [],
   "source": []
  }
 ],
 "metadata": {
  "kernelspec": {
   "display_name": "Python 3",
   "language": "python",
   "name": "python3"
  },
  "language_info": {
   "codemirror_mode": {
    "name": "ipython",
    "version": 3
   },
   "file_extension": ".py",
   "mimetype": "text/x-python",
   "name": "python",
   "nbconvert_exporter": "python",
   "pygments_lexer": "ipython3",
   "version": "3.7.4"
  }
 },
 "nbformat": 4,
 "nbformat_minor": 4
}
