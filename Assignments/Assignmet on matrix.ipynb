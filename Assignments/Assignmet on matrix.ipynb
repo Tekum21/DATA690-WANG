{
 "cells": [
  {
   "cell_type": "code",
   "execution_count": 15,
   "metadata": {},
   "outputs": [
    {
     "name": "stdout",
     "output_type": "stream",
     "text": [
      "********************************************************\n",
      "\n",
      "*    6    6    6    5    4    6    2    5    8    7    *\n",
      "*    5    7    0    4    6    1    1    2    9    0    *\n",
      "*    6    8    0    7    6    7    6    6    8    4    *\n",
      "*    6    3    2    8    1    7    4    8    8    4    *\n",
      "*    9    5    2    1    0    7    3    1    5    7    *\n",
      "*    1    2    8    8    2    7    1    1    4    4    *\n",
      "*    9    0    6    2    3    9    1    4    6    5    *\n",
      "*    5    1    5    0    4    2    7    6    1    6    *\n",
      "*    7    3    5    0    1    4    3    3    3    6    *\n",
      "*    2    9    7    2    8    0    0    9    9    0    *\n",
      "********************************************************\n",
      "\n"
     ]
    }
   ],
   "source": [
    "import random\n",
    "for i in range(56):\n",
    "    print(\"*\", end=\"\")\n",
    "print(\"\\n\")\n",
    "for i in range(10):\n",
    "    print(\"*\", \"   \", end=\"\")\n",
    "    for j in range(10):\n",
    "        print(random.randrange(10),\"   \" ,end=\"\")\n",
    "        \n",
    "    print(\"*\")\n",
    "for i in range(56):\n",
    "    print(\"*\", end=\"\")\n",
    "print(\"\\n\")"
   ]
  },
  {
   "cell_type": "code",
   "execution_count": null,
   "metadata": {},
   "outputs": [],
   "source": []
  }
 ],
 "metadata": {
  "kernelspec": {
   "display_name": "Python 3",
   "language": "python",
   "name": "python3"
  },
  "language_info": {
   "codemirror_mode": {
    "name": "ipython",
    "version": 3
   },
   "file_extension": ".py",
   "mimetype": "text/x-python",
   "name": "python",
   "nbconvert_exporter": "python",
   "pygments_lexer": "ipython3",
   "version": "3.7.4"
  }
 },
 "nbformat": 4,
 "nbformat_minor": 4
}
