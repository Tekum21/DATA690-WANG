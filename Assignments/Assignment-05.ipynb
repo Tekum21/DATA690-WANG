{
 "cells": [
  {
   "cell_type": "markdown",
   "metadata": {},
   "source": [
    "### Assignment 5\n",
    "\n",
    "You will unzip the zip file manually in preparation for this assignment.\n",
    "\n",
    "The link to the zip file is (you have already used it in your assignment 3):\n",
    "\n",
    "https://ed-public-download.app.cloud.gov/downloads/CollegeScorecard_Raw_Data.zip\n",
    "\n",
    "After unzipping, You will have all files in one folder named \"CollegeScorecard_Raw_Data\" \n",
    "\n",
    "The folder contains the yearly data files from 1996 to 2017 school years.\n",
    "\n",
    "Your Jupyter Notebook file should not be in the CollegeScorecard_Raw_Data folder. \n",
    "\n",
    "I suggest you create a new folder call \"Assignment4\" and place the Notebook file and the data folder under it.\n",
    "\n",
    "Assignment4/\n",
    "    - Jay.ipynb\n",
    "    - CollegeScorecard_Raw_Data/\n",
    "        - ...\n",
    "        - 'MERGED1996_97_PP.csv',\n",
    "        - 'MERGED2015_16_PP.csv',\n",
    "        - ...\n",
    "        - 'MERGED2017_18_PP.csv'\n"
   ]
  },
  {
   "cell_type": "code",
   "execution_count": 13,
   "metadata": {},
   "outputs": [],
   "source": [
    "# <1> \n",
    "# Import libraries\n",
    "import os\n",
    "import pandas as pd\n",
    "import seaborn as sns\n",
    "import matplotlib.pyplot as plt\n",
    "import warnings\n",
    "warnings.filterwarnings(\"ignore\")\n",
    "%matplotlib inline\n",
    "\n",
    "#(Write code here)"
   ]
  },
  {
   "cell_type": "code",
   "execution_count": 14,
   "metadata": {},
   "outputs": [
    {
     "data": {
      "text/plain": [
       "'C:\\\\Users\\\\tnjok\\\\Downloads\\\\Assignments'"
      ]
     },
     "execution_count": 14,
     "metadata": {},
     "output_type": "execute_result"
    }
   ],
   "source": [
    "# <2>\n",
    "# Find out what files are in the folder and assign the list of files to a variable for later processing\n",
    "# you would need to import a library call os which stands for operating system. so place that import statement in previous cell.\n",
    "# # os library also has method getcwd() to get the current working directory. since your notebook and your data files are not in \n",
    "# the same folder, you want to make sure what is the current working folder and how to access a data file in a different folder\n",
    "# display the current workin directory\n",
    "#(Write code here)\n",
    "os.getcwd()"
   ]
  },
  {
   "cell_type": "code",
   "execution_count": 16,
   "metadata": {},
   "outputs": [
    {
     "ename": "FileNotFoundError",
     "evalue": "[WinError 3] The system cannot find the path specified: 'CollegeScorecard_Raw_Data'",
     "output_type": "error",
     "traceback": [
      "\u001b[1;31m---------------------------------------------------------------------------\u001b[0m",
      "\u001b[1;31mFileNotFoundError\u001b[0m                         Traceback (most recent call last)",
      "\u001b[1;32m<ipython-input-16-d9c5140ac146>\u001b[0m in \u001b[0;36m<module>\u001b[1;34m\u001b[0m\n\u001b[0;32m      3\u001b[0m \u001b[1;31m# use this method to assign the contents of the data folder to a variable and display it\u001b[0m\u001b[1;33m\u001b[0m\u001b[1;33m\u001b[0m\u001b[1;33m\u001b[0m\u001b[0m\n\u001b[0;32m      4\u001b[0m \u001b[1;31m#(Write code here)\u001b[0m\u001b[1;33m\u001b[0m\u001b[1;33m\u001b[0m\u001b[1;33m\u001b[0m\u001b[0m\n\u001b[1;32m----> 5\u001b[1;33m \u001b[0mfile_names\u001b[0m\u001b[1;33m=\u001b[0m\u001b[0mos\u001b[0m\u001b[1;33m.\u001b[0m\u001b[0mlistdir\u001b[0m\u001b[1;33m(\u001b[0m\u001b[1;34m\"CollegeScorecard_Raw_Data\"\u001b[0m\u001b[1;33m)\u001b[0m\u001b[1;33m\u001b[0m\u001b[1;33m\u001b[0m\u001b[0m\n\u001b[0m\u001b[0;32m      6\u001b[0m \u001b[1;31m#Downloads/Assignments/Data sets/CollegeScorecard_Raw_Data\u001b[0m\u001b[1;33m\u001b[0m\u001b[1;33m\u001b[0m\u001b[1;33m\u001b[0m\u001b[0m\n",
      "\u001b[1;31mFileNotFoundError\u001b[0m: [WinError 3] The system cannot find the path specified: 'CollegeScorecard_Raw_Data'"
     ]
    }
   ],
   "source": [
    "# <3> \n",
    "# os library has a method call listdir which generates a list of files in a directory/folder\n",
    "# use this method to assign the contents of the data folder to a variable and display it\n",
    "#(Write code here)\n",
    "file_names=os.listdir(\"CollegeScorecard_Raw_Data\")\n",
    "#Downloads/Assignments/Data sets/CollegeScorecard_Raw_Data"
   ]
  },
  {
   "cell_type": "code",
   "execution_count": null,
   "metadata": {},
   "outputs": [],
   "source": [
    "# <4> \n",
    "# The folder contains a couple of files that are not the yearly data files\n",
    "# write code to remove the unwanted files from the list (Note: not from the folder in your drive)\n",
    "# hint: use pop or remove functions of a list. pop and remove work differently though.\n",
    "(Write code here)"
   ]
  },
  {
   "cell_type": "code",
   "execution_count": 78,
   "metadata": {},
   "outputs": [
    {
     "name": "stdout",
     "output_type": "stream",
     "text": [
      "<class 'pandas.core.frame.DataFrame'>\n",
      "Int64Index: 154285 entries, 0 to 7114\n",
      "Data columns (total 4 columns):\n",
      "UNITID           154285 non-null int64\n",
      "ADM_RATE         42583 non-null float64\n",
      "TUITIONFEE_IN    74895 non-null float64\n",
      "YEAR             154285 non-null object\n",
      "dtypes: float64(2), int64(1), object(1)\n",
      "memory usage: 5.9+ MB\n"
     ]
    }
   ],
   "source": [
    "# <5> \n",
    "# Now that you have a clean list of the yearly files, you want to loop through them\n",
    "# and read them into a dataframe one at a time. You only load three columns: UNITID, ADM_RATE, and TUITIONFEE_IN\n",
    "# You also want to add a new column call \"YEAR\" to differentiate the data frames from each other.\n",
    "# You would use an empty list and append the yearly dataframes to the list.\n",
    "# After all data files are loaded and appended to the list, you would use Pandas to concatenate them into a \n",
    "# new single data frame.\n",
    "# Note: this exercise incorporates many techques we learned before\n",
    "# - list (creating an empty, append an item to the list)\n",
    "# - for loop \n",
    "# - read only the needed columns from a file (using usecols option)\n",
    "# - add a new column to a data frame\n",
    "# - concatenate multiple dataframes into a single one\n",
    "# This exercise may appear a big challenging but it worths the effort. You will learn a lot and  love it. I promise.\n",
    "\n",
    "(Write code here)"
   ]
  },
  {
   "cell_type": "code",
   "execution_count": null,
   "metadata": {},
   "outputs": [],
   "source": [
    "# <6> \n",
    "# explore the new dataframe (# of observations, varibles, head, tail, sample, missing values, statistics,etc.)\n",
    "(Write code here)"
   ]
  },
  {
   "cell_type": "code",
   "execution_count": null,
   "metadata": {},
   "outputs": [],
   "source": [
    "# <7>\n",
    "# the dataframe contains 22 years of data of all U.S. colleges.\n",
    "# let's just look at UMBC\n",
    "# filte/query the dataframe to retrieve only rows that belong to UMBC\n",
    "# save the UMNC data to a new data frame. using a new variable \n",
    "# so that the old big data frame is still available for later use.\n",
    "(Write code here)"
   ]
  },
  {
   "cell_type": "code",
   "execution_count": null,
   "metadata": {},
   "outputs": [],
   "source": [
    "# <8>\n",
    "# Explore this UMBC dataframe (# of observations, varibles, head, tail, sample, missing values, statistics,etc.)\n",
    "(Write code here)"
   ]
  },
  {
   "cell_type": "code",
   "execution_count": null,
   "metadata": {},
   "outputs": [],
   "source": [
    "# <9> \n",
    "# Plot UMBC's in-state tution overtime from 1996 to 2017."
   ]
  },
  {
   "cell_type": "code",
   "execution_count": null,
   "metadata": {},
   "outputs": [],
   "source": [
    "# <10>\n",
    "# go back to 5/6/7 and modify the code to look at Johns Hopskins University instead.\n",
    "# (No code to write here, you just modify the previous cells)"
   ]
  },
  {
   "cell_type": "code",
   "execution_count": null,
   "metadata": {},
   "outputs": [],
   "source": [
    "# <11> \n",
    "# Now, we like to compare UMBC and JHU\n",
    "# filte/query the dataframe to retrieve only rows that belong to UMBC orJHU\n",
    "# save the UMNC/JHU data to a new data frame. using a new variable \n",
    "# so that the old big data frame is still available for later use.\n",
    "(Write code here)"
   ]
  },
  {
   "cell_type": "code",
   "execution_count": null,
   "metadata": {},
   "outputs": [],
   "source": [
    "# <12>\n",
    "# Explore the new dataframe (#of observations, varibles, head, tail, sample, missing values, statistics,etc.)\n",
    "(Write code here)"
   ]
  },
  {
   "cell_type": "code",
   "execution_count": null,
   "metadata": {},
   "outputs": [],
   "source": [
    "# <13>\n",
    "# Plot the in-state tuition of both UMBC and JHU over the 22 years on the same plot\n",
    "# This plot will help us compare the two universities.\n",
    "(Write code here)"
   ]
  },
  {
   "cell_type": "code",
   "execution_count": null,
   "metadata": {},
   "outputs": [],
   "source": [
    "# <14> \n",
    "# document your observation/conclusion of the plot (use the following Markdown cell)"
   ]
  },
  {
   "cell_type": "markdown",
   "metadata": {},
   "source": [
    "#### Based on my observation of the plot,\n",
    "#### blah, blah \n",
    "#### blah, blah\n",
    "#### ...\n",
    "#### blah, blah"
   ]
  },
  {
   "cell_type": "code",
   "execution_count": null,
   "metadata": {},
   "outputs": [],
   "source": [
    "# The end."
   ]
  }
 ],
 "metadata": {
  "kernelspec": {
   "display_name": "Python 3",
   "language": "python",
   "name": "python3"
  },
  "language_info": {
   "codemirror_mode": {
    "name": "ipython",
    "version": 3
   },
   "file_extension": ".py",
   "mimetype": "text/x-python",
   "name": "python",
   "nbconvert_exporter": "python",
   "pygments_lexer": "ipython3",
   "version": "3.7.4"
  }
 },
 "nbformat": 4,
 "nbformat_minor": 4
}
