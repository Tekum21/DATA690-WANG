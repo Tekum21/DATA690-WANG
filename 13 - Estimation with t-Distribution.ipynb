{
 "cells": [
  {
   "cell_type": "markdown",
   "metadata": {},
   "source": [
    "## 13 - Estimation with t-distribution\n",
    "\n",
    "### z-Distribution vs t-Distribution\n",
    "\n",
    "z-distribution - when population standard deviation $\\sigma$ is known (we have more confidence)\n",
    "\n",
    "t-distribution - when population standard deviation is unknown (we have less confidence)\n",
    "\n",
    "![Z vs t Distribution](images/z-and-t-distribution.gif)\n",
    "\n",
    "### Three Concepts of Statistical Inferece:\n",
    "#### 1. Point Estimate\n",
    "\n",
    "We use a sample statistics to estimate the population parameters:\n",
    "\n",
    "Sample Mean $\\bar{X}=\\dfrac{1}{n}\\sum\\limits_{i=1}^n X_i$\n",
    "\n",
    "Sample Variance $S^2=\\dfrac{1}{n-1}\\sum\\limits_{i=1}^n (X_i-\\bar{X})^2$\n",
    "\n",
    "Sample Standard Deviation $S=\\sqrt{\\dfrac{1}{n-1}\\sum\\limits_{i=1}^n (X_i-\\bar{X})^2}$\n",
    "\n",
    "#### 2.Interval Estimate/Confidence Interval\n",
    "\n",
    "How confident we are about our point estimate?\n",
    "\n",
    "Confidence Interval = sample statistics $\\pm$ margin of error\n",
    "\n",
    "Margin of Error = Some multiplier M * Standard Error \n",
    "\n",
    "Confidence Interval ($\\sigma$ known) = $\\bar{x}\\space\\pm\\space t_{\\alpha/2}\\left(\\dfrac{\\sigma}{\\sqrt{n}}\\right)$\n",
    "\n",
    "Confidence Interval ($\\sigma$ unknown) = $\\bar{x}\\space\\pm\\space t_{\\alpha/2}\\left(\\dfrac{S}{\\sqrt{n}}\\right)$\n",
    "\n",
    "Note: How confidence are you about your confidence? No 100% if the population standard deviation is not known and we must use the smaple standard deviation to approximate the population standard deviation.\n",
    "\n",
    "#### 3. Hypothese Testing (Challenging the status quo: Null Hypothesis vs Alternative Hypothesis)\n",
    "\n",
    "- One-Sample t-Test\n",
    "A one-sample t-test checks whether a sample mean differs from the population mean.\n",
    "- Two-Sample t-Test\n",
    "A two-sample t-test investigates whether the means of two independent data samples differ from one another. In a two-sample test, the null hypothesis is that the means of both groups are the same."
   ]
  },
  {
   "cell_type": "code",
   "execution_count": 3,
   "metadata": {},
   "outputs": [],
   "source": [
    "import math\n",
    "import scipy.stats as stats\n",
    "import numpy as np"
   ]
  },
  {
   "cell_type": "markdown",
   "metadata": {},
   "source": [
    "### Point and interval estimate example\n",
    "\n",
    "A random sample of **16** Americans yielded the following data on the number of pounds of beef consumed per year:\n",
    "\n",
    "**118    115    125    110    112    130    117    112\n",
    "115    120    113    118    119    122    123    126**\n",
    "\n",
    "What is the average number of pounds of beef consumed each year per person in the United States?"
   ]
  },
  {
   "cell_type": "markdown",
   "metadata": {},
   "source": [
    "### Step 1. Calculate Sample Size and Sample Mean"
   ]
  },
  {
   "cell_type": "code",
   "execution_count": 1,
   "metadata": {},
   "outputs": [
    {
     "name": "stdout",
     "output_type": "stream",
     "text": [
      "Sample size = 16\n"
     ]
    }
   ],
   "source": [
    "x = [118, 115, 125, 110, 112, 130, 117, 112, 115, 120, 113, 118, 119, 122, 123, 126]\n",
    "n = len(x)\n",
    "print(\"Sample size =\", n)"
   ]
  },
  {
   "cell_type": "code",
   "execution_count": 4,
   "metadata": {},
   "outputs": [
    {
     "name": "stdout",
     "output_type": "stream",
     "text": [
      "Sample mean = 118.44\n"
     ]
    }
   ],
   "source": [
    "sample_mean = round(np.mean(x),2)\n",
    "print(\"Sample mean =\", sample_mean)"
   ]
  },
  {
   "cell_type": "markdown",
   "metadata": {},
   "source": [
    "So, our point estimate for the annual beef consumption per capita in US is **118.44 pounds**.\n",
    "That is an easy part. Now let's perform **interval estimate**:"
   ]
  },
  {
   "cell_type": "markdown",
   "metadata": {},
   "source": [
    "### Step 2 - Calculate the Sample Standard Deviation & Sample Error\n",
    "\n",
    "Sample Standard Deviation $S=\\sqrt{\\dfrac{1}{n-1}\\sum\\limits_{i=1}^n (X_i-\\bar{X})^2}$\n",
    "\n",
    "Sample Error = $\\dfrac{S}{\\sqrt{n}}$\n",
    "\n",
    "Note: The default **Delta Degree of Freedom (DDOF)** is 0 which is applicable to populate data. \n",
    "\n",
    "For sample data, make sure to specify **ddof=1**.\n"
   ]
  },
  {
   "cell_type": "code",
   "execution_count": 12,
   "metadata": {},
   "outputs": [
    {
     "name": "stdout",
     "output_type": "stream",
     "text": [
      "Sample Standard Deviation = 5.66\n"
     ]
    }
   ],
   "source": [
    "sample_std = round(np.std(x, ddof=1),2)         \n",
    "print(\"Sample Standard Deviation =\", sample_std)"
   ]
  },
  {
   "cell_type": "code",
   "execution_count": 13,
   "metadata": {},
   "outputs": [
    {
     "name": "stdout",
     "output_type": "stream",
     "text": [
      "Sample Standard Error is 1.42\n"
     ]
    }
   ],
   "source": [
    "std_err = sample_std / math.sqrt(len(x))\n",
    "std_err = round(std_err,2)\n",
    "print(\"Sample Standard Error is\", std_err)"
   ]
  },
  {
   "cell_type": "markdown",
   "metadata": {},
   "source": [
    "### Step 3 - Calculate t Critical Value using t-Distribution\n",
    "\n",
    "At 95% confidence level, the t value is 2.13 according to the  Student T Distribution Table:\n",
    "![Student T Table](images/StudentTTable.png)\n",
    "\n",
    "$\\alpha$ = 1 - Confidence Level = 1 - 95% = 0.05\n",
    "\n",
    "$\\dfrac{\\alpha}{2}$ = 0.025\n",
    "\n",
    "n (sample size) = 15\n",
    "\n",
    "df (degree of freedom) = n - 1 = 16 - 1 = 15\n",
    "\n",
    "$t_{0.025,15}=2.13$\n",
    "\n",
    "Instead of looking it up in the t-table, you use Python scipy.stats t-distribution as follows:"
   ]
  },
  {
   "cell_type": "code",
   "execution_count": 14,
   "metadata": {},
   "outputs": [
    {
     "name": "stdout",
     "output_type": "stream",
     "text": [
      "t critical value =  2.13\n"
     ]
    }
   ],
   "source": [
    "t_value = stats.t.ppf(0.975, 15)\n",
    "print(\"t critical value = \", round(t_value,2))"
   ]
  },
  {
   "cell_type": "markdown",
   "metadata": {},
   "source": [
    "### Step 4 - Calculate Margin of Error\n",
    " Margin of Error = t-statistics * Sample Standard Error = $t_{\\alpha/2,n-1}\\left(\\dfrac{s}{\\sqrt{n}}\\right)$"
   ]
  },
  {
   "cell_type": "code",
   "execution_count": 16,
   "metadata": {},
   "outputs": [
    {
     "name": "stdout",
     "output_type": "stream",
     "text": [
      "Margin of Error = 3.03\n"
     ]
    }
   ],
   "source": [
    "margin_of_error = round(t_value * std_err,2) \n",
    "print(\"Margin of Error =\", margin_of_error)"
   ]
  },
  {
   "cell_type": "markdown",
   "metadata": {},
   "source": [
    "### Step 5 - Calculate Lower and Upper Limit of the Confidence Interval\n",
    "Lower Limit = Sample Mean - Margin of Error\n",
    "Upper Limit = Sample Mean + Margin of Error"
   ]
  },
  {
   "cell_type": "code",
   "execution_count": 17,
   "metadata": {},
   "outputs": [
    {
     "name": "stdout",
     "output_type": "stream",
     "text": [
      "Lower Limit =  115.41\n"
     ]
    }
   ],
   "source": [
    "lower_limit = sample_mean - margin_of_error\n",
    "print (\"Lower Limit = \", lower_limit)"
   ]
  },
  {
   "cell_type": "code",
   "execution_count": 18,
   "metadata": {},
   "outputs": [
    {
     "name": "stdout",
     "output_type": "stream",
     "text": [
      "Upper Limit =  121.47\n"
     ]
    }
   ],
   "source": [
    "upper_limit = sample_mean + margin_of_error\n",
    "print (\"Upper Limit = \", upper_limit)"
   ]
  },
  {
   "cell_type": "markdown",
   "metadata": {},
   "source": [
    "### Step 6 - Now You have the Confidence Interval\n",
    "Confidence Interval ($\\sigma$ unknown) = $\\bar{x}\\space\\pm\\space t_{\\alpha/2}\\left(\\dfrac{S}{\\sqrt{n}}\\right)$"
   ]
  },
  {
   "cell_type": "code",
   "execution_count": 19,
   "metadata": {},
   "outputs": [
    {
     "name": "stdout",
     "output_type": "stream",
     "text": [
      "The 95% Confidence Interval = ( 115.41 , 121.47 )\n"
     ]
    }
   ],
   "source": [
    "print(\"The 95% Confidence Interval = (\", lower_limit, \",\", upper_limit, \")\")"
   ]
  },
  {
   "cell_type": "markdown",
   "metadata": {},
   "source": [
    "### The End"
   ]
  },
  {
   "cell_type": "code",
   "execution_count": null,
   "metadata": {},
   "outputs": [],
   "source": []
  }
 ],
 "metadata": {
  "kernelspec": {
   "display_name": "Python 3",
   "language": "python",
   "name": "python3"
  },
  "language_info": {
   "codemirror_mode": {
    "name": "ipython",
    "version": 3
   },
   "file_extension": ".py",
   "mimetype": "text/x-python",
   "name": "python",
   "nbconvert_exporter": "python",
   "pygments_lexer": "ipython3",
   "version": "3.7.4"
  }
 },
 "nbformat": 4,
 "nbformat_minor": 4
}
