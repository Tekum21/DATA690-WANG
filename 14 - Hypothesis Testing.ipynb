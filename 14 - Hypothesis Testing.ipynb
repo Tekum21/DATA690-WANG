{
 "cells": [
  {
   "cell_type": "markdown",
   "metadata": {},
   "source": [
    "## 14 - Hypothesis Testing\n",
    "\n",
    "**Null Hypothesis:** Status Quo\n",
    "\n",
    "**Alternative Hypothesis:** Challenging the status quo\n",
    "\n",
    "### One-Sample t-Test\n",
    "A one-sample t-test checks whether a sample mean differs from the population mean.\n",
    "\n",
    "### Two-Sample t-Test\n",
    "A two-sample t-test investigates whether the means of two independent data samples differ from one another.\n",
    "In a two-sample test, the null hypothesis is that the means of both groups are the same."
   ]
  },
  {
   "cell_type": "code",
   "execution_count": 93,
   "metadata": {},
   "outputs": [],
   "source": [
    "import math\n",
    "import scipy.stats as stats\n",
    "import numpy as np"
   ]
  },
  {
   "cell_type": "code",
   "execution_count": 94,
   "metadata": {},
   "outputs": [
    {
     "name": "stdout",
     "output_type": "stream",
     "text": [
      "[10012.93726395 10646.05303011 10602.09391472  9566.47452246\n",
      "  8737.50314446  9537.69081156 11169.32011653  9937.24196242\n",
      " 11422.28457801  8600.09098033 10267.35633433 11590.55969822\n",
      "  9284.62912847  9493.88322116  9497.84457499 10295.33751743\n",
      " 10768.61404061  8648.70483576 10885.76257612 10118.92413997\n",
      "  9852.53934703 10376.87074406  8464.44907397  9822.92906336\n",
      " 10114.01781819  9302.00167677 10898.37713412  9429.77542658\n",
      " 10859.02559281  9734.85263932 10927.7268361  10822.35843428\n",
      "  9496.91901979 10459.68918736 10418.33303232 10728.59966894\n",
      " 11564.98999388  9593.41788357  8293.40101729  9795.9368847\n",
      " 10786.21063232  9780.2416118  10152.74013002 10229.90584579\n",
      "  9467.80085343  8777.71007743 11551.61890546 11027.11888246\n",
      " 10936.27621954  9393.12163097]\n",
      "[ 880.46003368 1005.48804137 1144.55274657  724.2569291   876.26535344\n",
      " 1071.80166669 1123.94198282 1036.75850259  833.3455589  1195.12810584\n",
      " 1075.41073142 1068.35456357 1125.96762312  964.2433148   853.27033606\n",
      " 1033.28173762 1005.68251454 1090.20145946 1068.82781072  945.69054392\n",
      "  931.14882549  998.83280215  896.69726122 1029.33973183  880.63601732\n",
      "  990.74206507  947.86250738  864.23913475  982.74073116  986.55416237\n",
      " 1083.33795401 1018.88505614  887.7883892   924.85059494 1006.65823674\n",
      " 1015.19187354  798.76906267 1047.92813062  918.86032327  992.24272322\n",
      " 1015.11593085  970.87573668 1043.51739275 1122.12490332 1009.98919747\n",
      " 1141.87304237  789.059971   1035.64364368 1113.3615037   783.26156177]\n",
      "[ 952.9564156   926.27723078  842.52481984 1096.87695313  968.00753928\n",
      "  952.34843172  969.28826347 1139.81669179  880.34576192  945.41809934\n",
      " 1010.51527612 1105.12386364  928.3565787   966.72087621  942.07781069\n",
      "  853.37487113 1086.59430675 1184.65377138 1011.38824224  868.57217293\n",
      " 1134.39796821  900.79113138 1114.57473386 1004.6058172  1132.22586983\n",
      "  754.3020375   904.85715105  979.60066967  968.8609136   976.49258139\n",
      " 1042.75160202 1105.49667971  772.14166248 1033.72243668  848.60590599\n",
      "  887.87383523  943.2035905  1001.80676868  839.43423376 1004.93652997\n",
      "  841.34850218 1036.32269316  992.71731599  962.99721137 1060.90197991\n",
      " 1054.84171465  926.45927872  839.66453296 1160.0387159  1035.17258036]\n"
     ]
    }
   ],
   "source": [
    "x1 = stats.norm.rvs(10000, 1000, 50)\n",
    "x2 = stats.norm.rvs(1000, 100, 50)\n",
    "x3 = stats.norm.rvs(1000, 100, 50)\n",
    "print(x1)\n",
    "print(x2)\n",
    "print(x3)"
   ]
  },
  {
   "cell_type": "code",
   "execution_count": 95,
   "metadata": {},
   "outputs": [
    {
     "name": "stdout",
     "output_type": "stream",
     "text": [
      "10082.845233105245\n",
      "987.0211604581028\n",
      "977.8476924112699\n"
     ]
    }
   ],
   "source": [
    "print(x1.mean())\n",
    "print(x2.mean())\n",
    "print(x3.mean())"
   ]
  },
  {
   "cell_type": "markdown",
   "metadata": {},
   "source": [
    "### One Sample t-Test\n",
    "\n",
    "H0: the mean of population that x1 sampled from is 0\n",
    "\n",
    "Ha: the mean of population that x1 sampled from is not 0\n"
   ]
  },
  {
   "cell_type": "code",
   "execution_count": 96,
   "metadata": {},
   "outputs": [
    {
     "data": {
      "text/plain": [
       "Ttest_1sampResult(statistic=84.1104184713285, pvalue=1.1879218277615648e-54)"
      ]
     },
     "execution_count": 96,
     "metadata": {},
     "output_type": "execute_result"
    }
   ],
   "source": [
    "stats.ttest_1samp(x1, 0)"
   ]
  },
  {
   "cell_type": "markdown",
   "metadata": {},
   "source": [
    "p-value is the probability of having the sameple under the hull hypothese.\n",
    "If the population mean is 0 (null hypothesis), then the chance for the sample to have a mean of 9770 is very very slim - almost impossible."
   ]
  },
  {
   "cell_type": "markdown",
   "metadata": {},
   "source": [
    "### Two Sample Test - x1 vs x2\n",
    "\n",
    "H0: The populations that X1 and X2 were sampled from have the same mean\n",
    "Ha: The populations that X1 and X2 were sampled from have different means"
   ]
  },
  {
   "cell_type": "code",
   "execution_count": 97,
   "metadata": {},
   "outputs": [
    {
     "data": {
      "text/plain": [
       "Ttest_indResult(statistic=75.2982688917182, pvalue=1.5464486135779753e-88)"
      ]
     },
     "execution_count": 97,
     "metadata": {},
     "output_type": "execute_result"
    }
   ],
   "source": [
    "stats.ttest_ind(x1,x2)"
   ]
  },
  {
   "cell_type": "markdown",
   "metadata": {},
   "source": [
    "Very small tiny p-value, so reject the null hypothesis and accept the alternative hypothesis."
   ]
  },
  {
   "cell_type": "markdown",
   "metadata": {},
   "source": [
    "### Two Sample Test - x2 vs x3\n",
    "\n",
    "H0: The populations that X2 and X3 were sampled from have the same mean\n",
    "Ha: The populations that X2 and X3 were sampled from have different means"
   ]
  },
  {
   "cell_type": "code",
   "execution_count": 98,
   "metadata": {},
   "outputs": [
    {
     "data": {
      "text/plain": [
       "Ttest_indResult(statistic=0.44192131789576433, pvalue=0.6595198044117564)"
      ]
     },
     "execution_count": 98,
     "metadata": {},
     "output_type": "execute_result"
    }
   ],
   "source": [
    "stats.ttest_ind(x2, x3)"
   ]
  },
  {
   "cell_type": "markdown",
   "metadata": {},
   "source": [
    "Very large p-value, so unable to reject the null hypothesis."
   ]
  },
  {
   "cell_type": "markdown",
   "metadata": {},
   "source": [
    "### Two Sample Test - x4 vs x5 \n",
    "\n",
    "Let's make the population means different (1000 vs 1005)\n",
    "\n",
    "H0: The populations that X4 and X5 were sampled from have the same mean\n",
    "Ha: The populations that X4 and X5 were sampled from have different means"
   ]
  },
  {
   "cell_type": "code",
   "execution_count": 99,
   "metadata": {},
   "outputs": [
    {
     "data": {
      "text/plain": [
       "Ttest_indResult(statistic=-0.6165788219522748, pvalue=0.5389422757221363)"
      ]
     },
     "execution_count": 99,
     "metadata": {},
     "output_type": "execute_result"
    }
   ],
   "source": [
    "x4 = stats.norm.rvs(1000, 100, 50)\n",
    "x5 = stats.norm.rvs(1005, 100, 50)\n",
    "stats.ttest_ind(x4,x5)"
   ]
  },
  {
   "cell_type": "markdown",
   "metadata": {},
   "source": [
    "Still relatively large p-value, so unable to reject the null hypothesis. \n",
    "Even though the population means are different but the difference is not statistically significant."
   ]
  },
  {
   "cell_type": "markdown",
   "metadata": {},
   "source": [
    "### Two Sample Test - x4 vs x5 \n",
    "\n",
    "Let's make the population means more different (1000 vs 1025)\n",
    "\n",
    "H0: The populations that X4 and X5 were sampled from have the same mean\n",
    "Ha: The populations that X4 and X5 were sampled from have different means"
   ]
  },
  {
   "cell_type": "code",
   "execution_count": 100,
   "metadata": {},
   "outputs": [
    {
     "data": {
      "text/plain": [
       "Ttest_indResult(statistic=-3.035035317110791, pvalue=0.003080086448108852)"
      ]
     },
     "execution_count": 100,
     "metadata": {},
     "output_type": "execute_result"
    }
   ],
   "source": [
    "x4 = stats.norm.rvs(1000, 100, 50)\n",
    "x5 = stats.norm.rvs(1020, 100, 50)\n",
    "stats.ttest_ind(x4,x5)"
   ]
  },
  {
   "cell_type": "markdown",
   "metadata": {},
   "source": [
    "The p-value is smaller but still greater than 0.05 that standard used in research. We will not reject the null hypothesis. We conclude the populations are not significantly different."
   ]
  },
  {
   "cell_type": "markdown",
   "metadata": {},
   "source": [
    "### Two Sample Test - x4 vs x5 \n",
    "\n",
    "Let's make the population means larger different (1000 vs 1050) - 5% difference\n",
    "\n",
    "H0: The populations that X4 and X5 were sampled from have the same mean\n",
    "Ha: The populations that X4 and X5 were sampled from have different means"
   ]
  },
  {
   "cell_type": "code",
   "execution_count": 101,
   "metadata": {},
   "outputs": [
    {
     "data": {
      "text/plain": [
       "Ttest_indResult(statistic=-1.2924524938869988, pvalue=0.19923961028448847)"
      ]
     },
     "execution_count": 101,
     "metadata": {},
     "output_type": "execute_result"
    }
   ],
   "source": [
    "x4 = stats.norm.rvs(1000, 100, 50)\n",
    "x5 = stats.norm.rvs(1050, 100, 50)\n",
    "stats.ttest_ind(x4,x5)"
   ]
  },
  {
   "cell_type": "markdown",
   "metadata": {},
   "source": [
    "Now, we have a p-value that is less than standard 0.05.\n",
    "We can reject the null hypothesis and state that the means of the two populations are the same."
   ]
  },
  {
   "cell_type": "markdown",
   "metadata": {},
   "source": [
    "### The End"
   ]
  }
 ],
 "metadata": {
  "kernelspec": {
   "display_name": "Python 3",
   "language": "python",
   "name": "python3"
  },
  "language_info": {
   "codemirror_mode": {
    "name": "ipython",
    "version": 3
   },
   "file_extension": ".py",
   "mimetype": "text/x-python",
   "name": "python",
   "nbconvert_exporter": "python",
   "pygments_lexer": "ipython3",
   "version": "3.7.4"
  }
 },
 "nbformat": 4,
 "nbformat_minor": 4
}
