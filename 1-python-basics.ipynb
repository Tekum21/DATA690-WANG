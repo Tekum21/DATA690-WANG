{
 "cells": [
  {
   "cell_type": "markdown",
   "metadata": {},
   "source": [
    "## 01 - Python Basics"
   ]
  },
  {
   "cell_type": "markdown",
   "metadata": {},
   "source": [
    "### 1. Basic Data Types\n",
    "- Integer\n",
    "- Float\n",
    "- String\n",
    "- Boolean\n",
    "- **Additional types:** Complex, Byte, Date/time, None\n",
    "- **To find out the type:** type()\n",
    "- **Assign a value to a variable:** variable = value\n",
    "- **Casting/Conversion of Types :** int(), float(), str(), bool()"
   ]
  },
  {
   "cell_type": "code",
   "execution_count": 9,
   "metadata": {},
   "outputs": [],
   "source": [
    "# Write Python code here"
   ]
  },
  {
   "cell_type": "markdown",
   "metadata": {},
   "source": [
    "### 2. Numerical Operations\n",
    "- Addition: \n",
    "- Subtraction\n",
    "- Multiplcation\n",
    "- Division\n",
    "- Power: **x ** y or pow(x, y)**\n",
    "- Modular: **%**"
   ]
  },
  {
   "cell_type": "code",
   "execution_count": 10,
   "metadata": {},
   "outputs": [],
   "source": [
    "# Write Python code here"
   ]
  },
  {
   "cell_type": "markdown",
   "metadata": {},
   "source": [
    "### 3. String Operations\n",
    "A string is a collection of characters (refer to Collection Data Types). \n",
    "\n",
    "Some useful string methods:\n",
    "- in\n",
    "- strip()\n",
    "- lower()\n",
    "- upper()\n",
    "- replace()\n",
    "- slicing - \\[start, stop, step] "
   ]
  },
  {
   "cell_type": "code",
   "execution_count": 11,
   "metadata": {},
   "outputs": [],
   "source": [
    "# write code here"
   ]
  },
  {
   "cell_type": "markdown",
   "metadata": {},
   "source": [
    "### 4. Logical Operations (Comparison)\n",
    "- \\>\n",
    "- \\>=\n",
    "- \\<\n",
    "- \\<=\n",
    "- \\== \n",
    "- \\!=\n",
    "- \\||\n",
    "- \\&&\n"
   ]
  },
  {
   "cell_type": "code",
   "execution_count": 12,
   "metadata": {},
   "outputs": [],
   "source": [
    "# write code here"
   ]
  },
  {
   "cell_type": "markdown",
   "metadata": {},
   "source": [
    "### 5. Control flow\n",
    "- Conditional: **if/elif/else**\n",
    "- Loop: **for (interate through a collection)**\n",
    "- Loop: **while (a condition is true)**\n",
    "- Nested loop\n",
    "- Leaving the loop: **break, continue**\n",
    "- infinite loop: **while True**\n",
    "- Exception handling: **try/except**"
   ]
  },
  {
   "cell_type": "code",
   "execution_count": 13,
   "metadata": {},
   "outputs": [],
   "source": [
    "# Write Python code here"
   ]
  },
  {
   "cell_type": "markdown",
   "metadata": {},
   "source": [
    "### 6. Input/Output\n",
    "- Accept user input: **input()**\n",
    "- Output to the standard output device: **print()**\n",
    "- Special statement: **with open(<file path/name>) as**\n",
    "- Open a file: **open()**\n",
    "- Close a file: **close()**\n",
    "- write to a file: **write()**\n"
   ]
  },
  {
   "cell_type": "code",
   "execution_count": 14,
   "metadata": {},
   "outputs": [],
   "source": [
    "# write code here"
   ]
  },
  {
   "cell_type": "code",
   "execution_count": 15,
   "metadata": {},
   "outputs": [
    {
     "name": "stdout",
     "output_type": "stream",
     "text": [
      "This is a test\n",
      "please ignore\n",
      "I have nothing to say"
     ]
    }
   ],
   "source": [
    "# write code here\n",
    "with open(\"test.txt\") as f:\n",
    "    for line in f:\n",
    "        print(line, end=\"\")"
   ]
  },
  {
   "cell_type": "code",
   "execution_count": 16,
   "metadata": {},
   "outputs": [],
   "source": [
    "with open(\"write.txt\", \"w\") as f:\n",
    "    f.write(\"don't worry\\n\")\n",
    "    f.write(\"Take care\")"
   ]
  },
  {
   "cell_type": "markdown",
   "metadata": {},
   "source": [
    "### 7. Functions \n",
    "- Regular functions\n",
    "- Lambda Functions (Anonymous functions)\n",
    "- inputs (parameters, arguments) \n",
    "- outputs (returns)"
   ]
  },
  {
   "cell_type": "code",
   "execution_count": 17,
   "metadata": {},
   "outputs": [],
   "source": [
    "# Write code here"
   ]
  },
  {
   "cell_type": "markdown",
   "metadata": {},
   "source": [
    "### 8. Some Useful Build-in Functions\n",
    "- abs()\n",
    "- round()\n",
    "- min()\n",
    "- max()\n",
    "- len()"
   ]
  },
  {
   "cell_type": "code",
   "execution_count": 18,
   "metadata": {},
   "outputs": [],
   "source": [
    "# write code here"
   ]
  },
  {
   "cell_type": "markdown",
   "metadata": {},
   "source": [
    "### 9. Modules and Classes\n",
    "\n",
    "- math \n",
    "- random \n",
    "- os\n",
    "- pathlib\n",
    "\n",
    "import [*module*]\n",
    "\n",
    "from [*module*] import [*class*]\n",
    "\n",
    "- import math\n",
    "- from math import sqrt\n",
    "- import random\n",
    "- from random import randint"
   ]
  },
  {
   "cell_type": "code",
   "execution_count": 19,
   "metadata": {},
   "outputs": [],
   "source": [
    "# write code here"
   ]
  }
 ],
 "metadata": {
  "kernelspec": {
   "display_name": "Python 3",
   "language": "python",
   "name": "python3"
  },
  "language_info": {
   "codemirror_mode": {
    "name": "ipython",
    "version": 3
   },
   "file_extension": ".py",
   "mimetype": "text/x-python",
   "name": "python",
   "nbconvert_exporter": "python",
   "pygments_lexer": "ipython3",
   "version": "3.7.4"
  }
 },
 "nbformat": 4,
 "nbformat_minor": 4
}
